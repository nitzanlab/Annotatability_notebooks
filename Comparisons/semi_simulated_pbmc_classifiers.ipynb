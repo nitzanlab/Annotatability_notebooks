{
 "cells": [
  {
   "cell_type": "markdown",
   "metadata": {
    "id": "3sp0aXHlX8IJ",
    "pycharm": {
     "name": "#%% md\n"
    }
   },
   "source": [
    "## Requirements and Imports\n"
   ]
  },
  {
   "cell_type": "code",
   "execution_count": 1,
   "metadata": {
    "ExecuteTime": {
     "end_time": "2024-05-30T09:35:27.210581226Z",
     "start_time": "2024-05-30T09:35:27.121191342Z"
    },
    "id": "DAO1-98s_DlG",
    "pycharm": {
     "name": "#%%\n"
    }
   },
   "outputs": [],
   "source": [
    "import copy\n",
    "import os\n",
    "from pathlib import Path\n",
    "from itertools import combinations\n",
    "from scipy import stats\n",
    "\n",
    "import numpy as np\n",
    "import pandas as pd\n",
    "import matplotlib.pyplot as plt\n",
    "import seaborn as sns\n",
    "import scanpy as sc\n",
    "from torch.utils.data import TensorDataset, DataLoader , WeightedRandomSampler\n",
    "\n",
    "from sklearn.metrics import roc_auc_score , pairwise_distances\n",
    "import torch\n",
    "import torch.optim as optim\n",
    "epoch_num=50\n",
    "device = torch.device('cuda:0' if torch.cuda.is_available() else 'cpu')\n",
    "import scipy.sparse as sp\n",
    "from numba import jit\n",
    "import torch.nn as nn\n",
    "import torch.nn.functional as F\n",
    "from torch.utils.data import TensorDataset, DataLoader , WeightedRandomSampler\n",
    "import torch.optim as optim\n",
    "from Annotatability import models, metrics\n"
   ]
  },
  {
   "cell_type": "code",
   "execution_count": 2,
   "metadata": {
    "ExecuteTime": {
     "end_time": "2024-05-30T09:35:27.378669290Z",
     "start_time": "2024-05-30T09:35:27.137603450Z"
    }
   },
   "outputs": [
    {
     "data": {
      "text/plain": [
       "device(type='cuda', index=0)"
      ]
     },
     "execution_count": 2,
     "metadata": {},
     "output_type": "execute_result"
    }
   ],
   "source": [
    "\n",
    "device"
   ]
  },
  {
   "cell_type": "code",
   "execution_count": 3,
   "metadata": {
    "ExecuteTime": {
     "end_time": "2024-05-30T09:35:27.455338258Z",
     "start_time": "2024-05-30T09:35:27.150862379Z"
    },
    "jupyter": {
     "outputs_hidden": false
    }
   },
   "outputs": [],
   "source": [
    "from torch.utils.data import TensorDataset, DataLoader , WeightedRandomSampler\n",
    "import torch.nn as nn\n",
    "import torch.nn.functional as F\n",
    "import torch.optim as optim\n",
    "import torch.nn as nn\n",
    "import torch.nn.functional as F\n",
    "from sklearn.preprocessing import LabelEncoder, OneHotEncoder\n",
    "from sklearn.utils import resample\n",
    "from collections import Counter\n"
   ]
  },
  {
   "cell_type": "code",
   "execution_count": 4,
   "metadata": {
    "ExecuteTime": {
     "end_time": "2024-05-30T09:35:27.457549701Z",
     "start_time": "2024-05-30T09:35:27.211073789Z"
    },
    "pycharm": {
     "name": "#%%\n"
    }
   },
   "outputs": [],
   "source": [
    "import random\n",
    "def random_sample_and_number(strings):\n",
    "    if len(strings) < 4:\n",
    "        raise ValueError(\"The list must contain at least 4 strings.\")\n",
    "    \n",
    "    sampled_strings = random.sample(strings, 4)\n",
    "    numbered_strings = {sampled_strings[i]: i for i in range(4)}\n",
    "    \n",
    "    return numbered_strings\n",
    "\n",
    "def create_intermediate_state(adata,key,labels):\n",
    "    bdata = adata.copy()\n",
    "    # change_weight= np.random.normal(0,0.5,adata.n_obs)\n",
    "    # change_weight  =np.clip(change_weight, a_max=0.5, a_min=0)\n",
    "    half_size = adata.n_obs // 2\n",
    "    zeros = np.zeros(half_size)\n",
    "    uniform_values = np.random.uniform(0.0, 1, adata.n_obs - half_size)\n",
    "    samples = np.concatenate((zeros, uniform_values))\n",
    "    np.random.shuffle(samples)\n",
    "    change_weight = samples\n",
    "    for i in range(adata.n_obs):\n",
    "        if adata.obs[key][i] in labels:\n",
    "            for label in labels:\n",
    "                if label != adata.obs[key][i]:\n",
    "                    adata_tmp= adata[adata.obs[key].isin([label])]\n",
    "                    bdata[i].X = (1-change_weight[i])*adata[i].X + change_weight[i]* adata_tmp[np.random.randint(adata_tmp.n_obs)].X\n",
    "        else:\n",
    "            change_weight[i]=0\n",
    "    bdata.obs['change_weight']+=change_weight\n",
    "    return bdata\n",
    "\n",
    "def create_intermediate_state_percent(adata,key,labels,percent):\n",
    "    bdata = adata.copy()\n",
    "    n=adata.n_obs\n",
    "    # change_weight= np.random.normal(0,0.5,adata.n_obs)\n",
    "    # change_weight  =np.clip(change_weight, a_max=0.5, a_min=0)\n",
    "    values_to_change=int(n *percent)\n",
    "    zeros = np.zeros(n-values_to_change)\n",
    "    uniform_values = np.random.uniform(0.0, 1, values_to_change)\n",
    "    samples = np.concatenate((zeros, uniform_values))\n",
    "    np.random.shuffle(samples)\n",
    "    change_weight = samples\n",
    "    for i in range(adata.n_obs):\n",
    "        if adata.obs[key][i] in labels:\n",
    "            for label in labels:\n",
    "                if label != adata.obs[key][i]:\n",
    "                    adata_tmp= adata[adata.obs[key].isin([label])]\n",
    "                    bdata[i].X = (1-change_weight[i])*adata[i].X + change_weight[i]* adata_tmp[np.random.randint(adata_tmp.n_obs)].X\n",
    "        else:\n",
    "            change_weight[i]=0\n",
    "    bdata.obs['change_weight']+=change_weight\n",
    "    return bdata\n",
    "def one_hot_encode_integer(labels):\n",
    "    \"\"\"\n",
    "    One-hot encodes an array of labels.\n",
    "\n",
    "    Args:\n",
    "        labels (numpy.ndarray): Array of labels.\n",
    "\n",
    "    Returns:\n",
    "        tuple: One-hot encoded array of labels, and a label encoder.\n",
    "    \"\"\"\n",
    "    values = np.array(labels)\n",
    "\n",
    "    # integer encode\n",
    "    label_encoder = LabelEncoder()\n",
    "    integer_encoded = label_encoder.fit_transform(values)\n",
    "\n",
    "    # binary encode\n",
    "    onehot_encoder = OneHotEncoder()\n",
    "    integer_encoded = integer_encoded.reshape(len(integer_encoded), 1)\n",
    "    onehot_encoded = onehot_encoder.fit_transform(integer_encoded)\n",
    "    # invert first example\n",
    "    #inverted = label_encoder.inverse_transform([np.argmax(onehot_encoded[0, :])])\n",
    "    if is_scipy_cs_sparse(onehot_encoded):\n",
    "        onehot_encoded = onehot_encoded.toarray()\n",
    "    return onehot_encoded, label_encoder , integer_encoded\n",
    "\n",
    "\n",
    "def is_scipy_cs_sparse(matrix):\n",
    "    \"\"\"\n",
    "    Check if a matrix is a Compressed Sparse Row (CSR) matrix using scipy.\n",
    "\n",
    "    Parameters:\n",
    "    ----------\n",
    "    matrix : scipy.sparse.spmatrix\n",
    "        The input matrix to be checked.\n",
    "\n",
    "    Returns:\n",
    "    -------\n",
    "    bool\n",
    "        True if the input matrix is a CSR matrix, False otherwise.\n",
    "\n",
    "    \"\"\"\n",
    "    return sp.issparse(matrix) and matrix.getformat() == 'csr'\n",
    "def create_weighted_sampler(adata, label_key):\n",
    "    \"\"\"\n",
    "    Create a weighted sampler to handle class imbalance for a given label in an AnnData object.\n",
    "\n",
    "    This function computes class weights based on the distribution of labels and creates\n",
    "    a weighted sampler for training data to address class imbalance issues.\n",
    "\n",
    "    Parameters:\n",
    "    ----------\n",
    "    adata : AnnData\n",
    "        Anndata object containing the data.\n",
    "\n",
    "    label_key : str\n",
    "        The key in adata.obs where the class labels are stored.\n",
    "\n",
    "    Returns:\n",
    "    -------\n",
    "    WeightedRandomSampler\n",
    "        A weighted sampler that can be used with DataLoader to handle class imbalance.\n",
    "\n",
    "    Notes:\n",
    "    ------\n",
    "    - Ensure that the AnnData object ('adata') contains a column with class labels specified\n",
    "      by the 'label_key' parameter.\n",
    "    - The returned WeightedRandomSampler can be used with PyTorch DataLoader to sample\n",
    "      batches with class-awareness.\n",
    "    \"\"\"\n",
    "    y_train = adata.obs[label_key]\n",
    "    y_train_indices = y_train.unique()\n",
    "    class_sample_count = np.array([sum(y_train == t) for t in y_train_indices])\n",
    "    weight = 1.0 / class_sample_count\n",
    "    samples_weight = np.zeros(adata.n_obs)\n",
    "    for i in range(adata.n_obs):\n",
    "        for j, t in enumerate(y_train_indices):\n",
    "            if adata.obs[label_key][i] == t:\n",
    "                samples_weight[i] = weight[j]\n",
    "    samples_weight = torch.from_numpy(samples_weight)\n",
    "    sampler = WeightedRandomSampler(samples_weight.type('torch.DoubleTensor'), len(samples_weight))\n",
    "    return sampler\n",
    "\n",
    "def one_hot_encode_integer(labels):\n",
    "    \"\"\"\n",
    "    One-hot encodes an array of labels.\n",
    "\n",
    "    Args:\n",
    "        labels (numpy.ndarray): Array of labels.\n",
    "\n",
    "    Returns:\n",
    "        tuple: One-hot encoded array of labels, and a label encoder.\n",
    "    \"\"\"\n",
    "    values = np.array(labels)\n",
    "\n",
    "    # integer encode\n",
    "    label_encoder = LabelEncoder()\n",
    "    integer_encoded = label_encoder.fit_transform(values)\n",
    "\n",
    "    # binary encode\n",
    "    onehot_encoder = OneHotEncoder()\n",
    "    integer_encoded = integer_encoded.reshape(len(integer_encoded), 1)\n",
    "    onehot_encoded = onehot_encoder.fit_transform(integer_encoded)\n",
    "    # invert first example\n",
    "    #inverted = label_encoder.inverse_transform([np.argmax(onehot_encoded[0, :])])\n",
    "    if is_scipy_cs_sparse(onehot_encoded):\n",
    "        onehot_encoded = onehot_encoded.toarray()\n",
    "    return onehot_encoded, label_encoder , integer_encoded\n"
   ]
  },
  {
   "cell_type": "code",
   "execution_count": 5,
   "metadata": {},
   "outputs": [],
   "source": [
    "class Net(nn.Module):\n",
    "    def __init__(self, input_size, output_size):\n",
    "        \"\"\"\n",
    "        Initializes a feedforward neural network with three fully-connected layers.\n",
    "\n",
    "        Args:\n",
    "            input_size (int): Size of the input layer.\n",
    "            output_size (int): Size of the output layer.\n",
    "        \"\"\"\n",
    "        super(Net, self).__init__()\n",
    "        self.fc1 = nn.Linear(input_size, int(input_size / 2))\n",
    "        self.fc2 = nn.Linear(int(input_size / 2), int(input_size / 4))\n",
    "        self.fc3 = nn.Linear(int(input_size / 4), output_size)\n",
    "\n",
    "    def forward(self, x):\n",
    "        \"\"\"\n",
    "        Performs the forward pass of the neural network.\n",
    "\n",
    "        Args:\n",
    "            x (torch.Tensor): Input data of shape (batch_size, input_size).\n",
    "\n",
    "        Returns:\n",
    "            torch.Tensor: Output data of shape (batch_size, output_size).\n",
    "        \"\"\"\n",
    "        x = self.fc1(x)\n",
    "        x = F.relu(x)\n",
    "        x = self.fc2(x)\n",
    "        x = F.relu(x)\n",
    "        x = self.fc3(x)\n",
    "        output = F.log_softmax(x)\n",
    "        return output\n",
    "\n",
    "def one_hot_encode(labels):\n",
    "    \"\"\"\n",
    "    One-hot encodes an array of labels.\n",
    "    \n",
    "    Args:\n",
    "        labels (numpy.ndarray): Array of labels.\n",
    "        \n",
    "    Returns:\n",
    "        tuple: One-hot encoded array of labels, and a label encoder.\n",
    "    \"\"\"\n",
    "    values = np.array(labels)\n",
    "    #print(values)\n",
    "    # integer encode\n",
    "    label_encoder = LabelEncoder()\n",
    "    integer_encoded = label_encoder.fit_transform(values)\n",
    "    #print(integer_encoded)\n",
    "    # binary encode\n",
    "    onehot_encoder = OneHotEncoder(sparse=False)\n",
    "    integer_encoded = integer_encoded.reshape(len(integer_encoded), 1)\n",
    "    onehot_encoded = onehot_encoder.fit_transform(integer_encoded)\n",
    "    # invert first example\n",
    "    inverted = label_encoder.inverse_transform([np.argmax(onehot_encoded[0, :])])\n",
    "    return onehot_encoded, label_encoder\n",
    "\n",
    "def nn_to_conf(adata, label_key, device, weighted_sampler=True):\n",
    "    one_hot_label, inverted_label, intger_label  = one_hot_encode_integer(adata.obs[label_key])\n",
    "    label=intger_label\n",
    "    intger_label = intger_label.flatten()\n",
    "    if is_scipy_cs_sparse(adata.X):\n",
    "        x_data = adata.X.toarray()\n",
    "    else:\n",
    "        x_data = np.array(adata.X)\n",
    "    tensor_x = torch.Tensor(x_data)  # Transform to torch tensor\n",
    "    tensor_y = torch.Tensor(one_hot_label)\n",
    "    X = tensor_x\n",
    "    Y = tensor_y\n",
    "    if weighted_sampler:\n",
    "        sampler = create_weighted_sampler(adata, label_key)\n",
    "    else:\n",
    "        trainloader = torch.utils.data.DataLoader(my_dataset, batch_size=batch_size,\n",
    "                                                  shuffle=True, num_workers=0)\n",
    "\n",
    "    net = fit_nn(X, Y, label_key=label_key, device=device, weighted_sampler=sampler)\n",
    "    X = X.to(device)\n",
    "    net = net.to(device)\n",
    "    prob = net(X)\n",
    "    prob = torch.exp(prob)\n",
    "    prob = prob.detach().cpu().numpy()        \n",
    "    return prob[np.arange(adata.n_obs),intger_label]\n",
    "\n",
    "def fit_nn(tensor_x, tensor_y, label_key,weighted_sampler, iterNum=20, lr=0.001, momentum=0.9,\n",
    "                    device='cpu', batch_size=64):\n",
    "    net = Net(tensor_x.shape[1], output_size=tensor_y.shape[1])\n",
    "    net.to(device)\n",
    "    criterion = nn.CrossEntropyLoss()\n",
    "    optimizer = optim.SGD(net.parameters(), lr=lr, momentum=momentum)\n",
    "    tensor_x = tensor_x.to(device)\n",
    "    tensor_y = tensor_y.to(device)\n",
    "    my_dataset = TensorDataset(tensor_x, tensor_y)  # Create your dataset\n",
    "    trainloader = torch.utils.data.DataLoader(my_dataset, batch_size=batch_size,\n",
    "                                                  sampler=weighted_sampler, num_workers=0)\n",
    "    for epoch in range(iterNum):  # Loop over the dataset multiple times\n",
    "        running_loss = 0.0\n",
    "        for i, data in enumerate(trainloader, 0):\n",
    "            # Get the inputs; data is a list of [inputs, labels]\n",
    "            inputs, labels = data\n",
    "            if device.type != 'cpu':\n",
    "                #print('Running with cuda')\n",
    "                inputs, labels = inputs.cuda(), labels.cuda()\n",
    "\n",
    "            # Zero the parameter gradients\n",
    "            optimizer.zero_grad()\n",
    "\n",
    "            # Forward + backward + optimize\n",
    "            outputs = net(inputs)\n",
    "            loss = criterion(outputs, labels)\n",
    "            loss.backward()\n",
    "            optimizer.step()\n",
    "            running_loss += loss.item()\n",
    "            if i % 10 == 1:  # Print every 10 mini-batches\n",
    "                #print(f'[{epoch + 1}, {i + 1:5d}] loss: {running_loss / 10:.3f}')\n",
    "                running_loss = 0.0\n",
    "    return net\n"
   ]
  },
  {
   "cell_type": "code",
   "execution_count": 6,
   "metadata": {},
   "outputs": [
    {
     "data": {
      "text/plain": [
       "AnnData object with n_obs × n_vars = 11990 × 3346\n",
       "    obs: 'n_counts', 'batch', 'labels', 'str_labels'\n",
       "    var: 'gene_symbols', 'n_counts-0', 'n_counts-1', 'n_counts'\n",
       "    uns: 'cell_types'\n",
       "    obsm: 'design', 'normalized_qc', 'qc_pc', 'raw_qc'"
      ]
     },
     "execution_count": 6,
     "metadata": {},
     "output_type": "execute_result"
    }
   ],
   "source": [
    "adata = sc.read('pbmc.h5ad')\n",
    "adata"
   ]
  },
  {
   "cell_type": "code",
   "execution_count": 7,
   "metadata": {},
   "outputs": [
    {
     "data": {
      "text/plain": [
       "AAACCTGAGCTAGTGG-1        CD4 T cells\n",
       "AAACCTGCACATTAGC-1        CD4 T cells\n",
       "AAACCTGCACTGTTAG-1    CD14+ Monocytes\n",
       "AAACCTGCATAGTAAG-1    CD14+ Monocytes\n",
       "AAACCTGCATGAACCT-1        CD8 T cells\n",
       "                           ...       \n",
       "TTTGGTTTCGCTAGCG-1    CD14+ Monocytes\n",
       "TTTGTCACACTTAACG-1        CD8 T cells\n",
       "TTTGTCACAGGTCCAC-1           NK cells\n",
       "TTTGTCAGTTAAGACA-1            B cells\n",
       "TTTGTCATCCCAAGAT-1    CD14+ Monocytes\n",
       "Name: str_labels, Length: 11990, dtype: category\n",
       "Categories (9, object): ['B cells', 'CD4 T cells', 'CD8 T cells', 'CD14+ Monocytes', ..., 'FCGR3A+ Monocytes', 'Megakaryocytes', 'NK cells', 'Other']"
      ]
     },
     "execution_count": 7,
     "metadata": {},
     "output_type": "execute_result"
    }
   ],
   "source": [
    "adata.obs['str_labels']"
   ]
  },
  {
   "cell_type": "code",
   "execution_count": 8,
   "metadata": {},
   "outputs": [
    {
     "data": {
      "text/plain": [
       "['CD4 T cells', 'CD14+ Monocytes', 'CD8 T cells', 'B cells', 'Other', 'Dendritic Cells', 'FCGR3A+ Monocytes', 'NK cells', 'Megakaryocytes']\n",
       "Categories (9, object): ['B cells', 'CD4 T cells', 'CD8 T cells', 'CD14+ Monocytes', ..., 'FCGR3A+ Monocytes', 'Megakaryocytes', 'NK cells', 'Other']"
      ]
     },
     "execution_count": 8,
     "metadata": {},
     "output_type": "execute_result"
    }
   ],
   "source": [
    "adata.obs['str_labels'].unique()"
   ]
  },
  {
   "cell_type": "code",
   "execution_count": null,
   "metadata": {},
   "outputs": [],
   "source": []
  },
  {
   "cell_type": "code",
   "execution_count": 9,
   "metadata": {},
   "outputs": [
    {
     "data": {
      "image/png": "[encoded data removed]",
      "text/plain": [
       "<Figure size 640x480 with 1 Axes>"
      ]
     },
     "metadata": {},
     "output_type": "display_data"
    }
   ],
   "source": [
    "sc.pp.filter_genes_dispersion(adata,n_top_genes=3000)\n",
    "sc.pp.filter_genes(adata, min_counts=20)\n",
    "sc.pp.normalize_per_cell(adata, counts_per_cell_after=1e4)\n",
    "sc.pp.log1p(adata)\n",
    "sc.pp.pca(adata)\n",
    "sc.pp.neighbors(adata)\n",
    "sc.tl.umap(adata)\n",
    "sc.pl.umap(adata,color=['str_labels'])\n"
   ]
  },
  {
   "cell_type": "code",
   "execution_count": 10,
   "metadata": {},
   "outputs": [
    {
     "data": {
      "text/plain": [
       "View of AnnData object with n_obs × n_vars = 11439 × 2999\n",
       "    obs: 'n_counts', 'batch', 'labels', 'str_labels'\n",
       "    var: 'gene_symbols', 'n_counts-0', 'n_counts-1', 'n_counts', 'means', 'dispersions', 'dispersions_norm'\n",
       "    uns: 'cell_types', 'log1p', 'pca', 'neighbors', 'umap', 'str_labels_colors'\n",
       "    obsm: 'design', 'normalized_qc', 'qc_pc', 'raw_qc', 'X_pca', 'X_umap'\n",
       "    varm: 'PCs'\n",
       "    obsp: 'distances', 'connectivities'"
      ]
     },
     "execution_count": 10,
     "metadata": {},
     "output_type": "execute_result"
    }
   ],
   "source": [
    "cell_type_list = ['CD4 T cells', 'CD14+ Monocytes', 'CD8 T cells', 'B cells', 'Dendritic Cells', 'FCGR3A+ Monocytes', 'NK cells']\n",
    "\n",
    "\n",
    "adata= adata[adata.obs['str_labels'].isin(cell_type_list)]\n",
    "adata"
   ]
  },
  {
   "cell_type": "code",
   "execution_count": null,
   "metadata": {},
   "outputs": [],
   "source": []
  },
  {
   "cell_type": "code",
   "execution_count": 11,
   "metadata": {},
   "outputs": [],
   "source": [
    "mapping = random_sample_and_number(list(adata.obs['str_labels'].unique()))"
   ]
  },
  {
   "cell_type": "code",
   "execution_count": 12,
   "metadata": {},
   "outputs": [
    {
     "data": {
      "text/plain": [
       "['NK cells', 'B cells', 'CD4 T cells', 'CD8 T cells']"
      ]
     },
     "execution_count": 12,
     "metadata": {},
     "output_type": "execute_result"
    }
   ],
   "source": [
    "list(mapping.keys())"
   ]
  },
  {
   "cell_type": "code",
   "execution_count": 13,
   "metadata": {},
   "outputs": [
    {
     "name": "stderr",
     "output_type": "stream",
     "text": [
      "/cs/labs/mornitzan/karinjo/miniconda/envs/rev17/lib/python3.7/site-packages/ipykernel_launcher.py:17: ImplicitModificationWarning: Trying to modify attribute `.obs` of view, initializing view as actual.\n",
      "  app.launch_new_instance()\n",
      "/cs/labs/mornitzan/karinjo/miniconda/envs/rev17/lib/python3.7/site-packages/scipy/sparse/_index.py:116: SparseEfficiencyWarning: Changing the sparsity structure of a csr_matrix is expensive. lil_matrix is more efficient.\n",
      "  self._set_arrayXarray_sparse(i, j, x)\n",
      "/cs/labs/mornitzan/karinjo/miniconda/envs/rev17/lib/python3.7/site-packages/Annotatability/models.py:51: UserWarning: Implicit dimension choice for log_softmax has been deprecated. Change the call to include dim=X as an argument.\n",
      "  output = F.log_softmax(x)\n"
     ]
    },
    {
     "name": "stdout",
     "output_type": "stream",
     "text": [
      "[1,     2] loss: 0.278\n",
      "[1,    12] loss: 1.381\n",
      "[1,    22] loss: 1.349\n",
      "[1,    32] loss: 1.315\n",
      "[2,     2] loss: 0.259\n",
      "[2,    12] loss: 1.260\n",
      "[2,    22] loss: 1.210\n",
      "[2,    32] loss: 1.152\n",
      "[3,     2] loss: 0.224\n",
      "[3,    12] loss: 1.075\n",
      "[3,    22] loss: 1.020\n",
      "[3,    32] loss: 0.964\n",
      "[4,     2] loss: 0.189\n",
      "[4,    12] loss: 0.912\n",
      "[4,    22] loss: 0.869\n",
      "[4,    32] loss: 0.826\n",
      "[5,     2] loss: 0.167\n",
      "[5,    12] loss: 0.794\n",
      "[5,    22] loss: 0.770\n",
      "[5,    32] loss: 0.733\n",
      "[6,     2] loss: 0.147\n",
      "[6,    12] loss: 0.718\n",
      "[6,    22] loss: 0.699\n",
      "[6,    32] loss: 0.694\n",
      "[7,     2] loss: 0.134\n",
      "[7,    12] loss: 0.704\n",
      "[7,    22] loss: 0.671\n",
      "[7,    32] loss: 0.656\n",
      "[8,     2] loss: 0.131\n",
      "[8,    12] loss: 0.654\n",
      "[8,    22] loss: 0.651\n",
      "[8,    32] loss: 0.632\n",
      "[9,     2] loss: 0.125\n",
      "[9,    12] loss: 0.636\n",
      "[9,    22] loss: 0.637\n",
      "[9,    32] loss: 0.625\n",
      "[10,     2] loss: 0.115\n",
      "[10,    12] loss: 0.602\n",
      "[10,    22] loss: 0.628\n",
      "[10,    32] loss: 0.620\n",
      "[11,     2] loss: 0.122\n",
      "[11,    12] loss: 0.619\n",
      "[11,    22] loss: 0.626\n",
      "[11,    32] loss: 0.622\n",
      "[12,     2] loss: 0.126\n",
      "[12,    12] loss: 0.601\n",
      "[12,    22] loss: 0.611\n",
      "[12,    32] loss: 0.611\n",
      "[13,     2] loss: 0.127\n",
      "[13,    12] loss: 0.601\n",
      "[13,    22] loss: 0.600\n",
      "[13,    32] loss: 0.585\n",
      "[14,     2] loss: 0.116\n",
      "[14,    12] loss: 0.598\n",
      "[14,    22] loss: 0.610\n",
      "[14,    32] loss: 0.608\n",
      "[15,     2] loss: 0.116\n",
      "[15,    12] loss: 0.582\n",
      "[15,    22] loss: 0.583\n",
      "[15,    32] loss: 0.582\n",
      "[16,     2] loss: 0.114\n",
      "[16,    12] loss: 0.595\n",
      "[16,    22] loss: 0.582\n",
      "[16,    32] loss: 0.564\n",
      "[17,     2] loss: 0.116\n",
      "[17,    12] loss: 0.586\n",
      "[17,    22] loss: 0.565\n",
      "[17,    32] loss: 0.586\n",
      "[18,     2] loss: 0.110\n",
      "[18,    12] loss: 0.568\n",
      "[18,    22] loss: 0.579\n",
      "[18,    32] loss: 0.566\n",
      "[19,     2] loss: 0.107\n",
      "[19,    12] loss: 0.568\n",
      "[19,    22] loss: 0.561\n",
      "[19,    32] loss: 0.562\n",
      "[20,     2] loss: 0.116\n",
      "[20,    12] loss: 0.551\n",
      "[20,    22] loss: 0.549\n",
      "[20,    32] loss: 0.566\n"
     ]
    },
    {
     "name": "stderr",
     "output_type": "stream",
     "text": [
      "/cs/labs/mornitzan/karinjo/miniconda/envs/rev17/lib/python3.7/site-packages/ipykernel_launcher.py:30: UserWarning: Implicit dimension choice for log_softmax has been deprecated. Change the call to include dim=X as an argument.\n"
     ]
    },
    {
     "name": "stdout",
     "output_type": "stream",
     "text": [
      "[-0.5676253572896011]\n",
      "[-0.20163772285541143]\n",
      "[-0.2285863365115027]\n",
      "[-0.25705798009984054]\n",
      "[-0.8389092154535919]\n"
     ]
    },
    {
     "name": "stderr",
     "output_type": "stream",
     "text": [
      "/cs/labs/mornitzan/karinjo/miniconda/envs/rev17/lib/python3.7/site-packages/ipykernel_launcher.py:17: ImplicitModificationWarning: Trying to modify attribute `.obs` of view, initializing view as actual.\n",
      "  app.launch_new_instance()\n",
      "/cs/labs/mornitzan/karinjo/miniconda/envs/rev17/lib/python3.7/site-packages/scipy/sparse/_index.py:116: SparseEfficiencyWarning: Changing the sparsity structure of a csr_matrix is expensive. lil_matrix is more efficient.\n",
      "  self._set_arrayXarray_sparse(i, j, x)\n",
      "/cs/labs/mornitzan/karinjo/miniconda/envs/rev17/lib/python3.7/site-packages/Annotatability/models.py:51: UserWarning: Implicit dimension choice for log_softmax has been deprecated. Change the call to include dim=X as an argument.\n",
      "  output = F.log_softmax(x)\n"
     ]
    },
    {
     "name": "stdout",
     "output_type": "stream",
     "text": [
      "[1,     2] loss: 0.280\n",
      "[1,    12] loss: 1.390\n",
      "[2,     2] loss: 0.273\n",
      "[2,    12] loss: 1.341\n",
      "[3,     2] loss: 0.263\n",
      "[3,    12] loss: 1.285\n",
      "[4,     2] loss: 0.248\n",
      "[4,    12] loss: 1.211\n",
      "[5,     2] loss: 0.232\n",
      "[5,    12] loss: 1.125\n",
      "[6,     2] loss: 0.211\n",
      "[6,    12] loss: 1.026\n",
      "[7,     2] loss: 0.187\n",
      "[7,    12] loss: 0.901\n",
      "[8,     2] loss: 0.172\n",
      "[8,    12] loss: 0.813\n",
      "[9,     2] loss: 0.153\n",
      "[9,    12] loss: 0.732\n",
      "[10,     2] loss: 0.139\n",
      "[10,    12] loss: 0.688\n",
      "[11,     2] loss: 0.127\n",
      "[11,    12] loss: 0.654\n",
      "[12,     2] loss: 0.128\n",
      "[12,    12] loss: 0.648\n",
      "[13,     2] loss: 0.127\n",
      "[13,    12] loss: 0.631\n",
      "[14,     2] loss: 0.122\n",
      "[14,    12] loss: 0.593\n",
      "[15,     2] loss: 0.122\n",
      "[15,    12] loss: 0.608\n",
      "[16,     2] loss: 0.120\n",
      "[16,    12] loss: 0.594\n",
      "[17,     2] loss: 0.121\n",
      "[17,    12] loss: 0.587\n",
      "[18,     2] loss: 0.115\n",
      "[18,    12] loss: 0.592\n",
      "[19,     2] loss: 0.111\n",
      "[19,    12] loss: 0.573\n",
      "[20,     2] loss: 0.117\n",
      "[20,    12] loss: 0.560\n"
     ]
    },
    {
     "name": "stderr",
     "output_type": "stream",
     "text": [
      "/cs/labs/mornitzan/karinjo/miniconda/envs/rev17/lib/python3.7/site-packages/ipykernel_launcher.py:30: UserWarning: Implicit dimension choice for log_softmax has been deprecated. Change the call to include dim=X as an argument.\n"
     ]
    },
    {
     "name": "stdout",
     "output_type": "stream",
     "text": [
      "[-0.5676253572896011, -0.6679683718895058]\n",
      "[-0.20163772285541143, -0.3338447784692806]\n",
      "[-0.2285863365115027, -0.3889975802776504]\n",
      "[-0.25705798009984054, -0.3076154218651019]\n",
      "[-0.8389092154535919, -0.9150205267607416]\n"
     ]
    },
    {
     "name": "stderr",
     "output_type": "stream",
     "text": [
      "/cs/labs/mornitzan/karinjo/miniconda/envs/rev17/lib/python3.7/site-packages/ipykernel_launcher.py:17: ImplicitModificationWarning: Trying to modify attribute `.obs` of view, initializing view as actual.\n",
      "  app.launch_new_instance()\n",
      "/cs/labs/mornitzan/karinjo/miniconda/envs/rev17/lib/python3.7/site-packages/scipy/sparse/_index.py:116: SparseEfficiencyWarning: Changing the sparsity structure of a csr_matrix is expensive. lil_matrix is more efficient.\n",
      "  self._set_arrayXarray_sparse(i, j, x)\n",
      "/cs/labs/mornitzan/karinjo/miniconda/envs/rev17/lib/python3.7/site-packages/Annotatability/models.py:51: UserWarning: Implicit dimension choice for log_softmax has been deprecated. Change the call to include dim=X as an argument.\n",
      "  output = F.log_softmax(x)\n"
     ]
    },
    {
     "name": "stdout",
     "output_type": "stream",
     "text": [
      "[1,     2] loss: 0.277\n",
      "[1,    12] loss: 1.378\n",
      "[1,    22] loss: 1.362\n",
      "[1,    32] loss: 1.342\n",
      "[2,     2] loss: 0.264\n",
      "[2,    12] loss: 1.312\n",
      "[2,    22] loss: 1.286\n",
      "[2,    32] loss: 1.250\n",
      "[3,     2] loss: 0.243\n",
      "[3,    12] loss: 1.213\n",
      "[3,    22] loss: 1.163\n",
      "[3,    32] loss: 1.136\n",
      "[4,     2] loss: 0.220\n",
      "[4,    12] loss: 1.085\n",
      "[4,    22] loss: 1.043\n",
      "[4,    32] loss: 1.016\n",
      "[5,     2] loss: 0.199\n",
      "[5,    12] loss: 0.974\n",
      "[5,    22] loss: 0.953\n",
      "[5,    32] loss: 0.916\n",
      "[6,     2] loss: 0.180\n",
      "[6,    12] loss: 0.881\n",
      "[6,    22] loss: 0.862\n",
      "[6,    32] loss: 0.839\n",
      "[7,     2] loss: 0.165\n",
      "[7,    12] loss: 0.815\n",
      "[7,    22] loss: 0.796\n",
      "[7,    32] loss: 0.765\n",
      "[8,     2] loss: 0.152\n",
      "[8,    12] loss: 0.743\n",
      "[8,    22] loss: 0.738\n",
      "[8,    32] loss: 0.722\n",
      "[9,     2] loss: 0.143\n",
      "[9,    12] loss: 0.702\n",
      "[9,    22] loss: 0.699\n",
      "[9,    32] loss: 0.688\n",
      "[10,     2] loss: 0.132\n",
      "[10,    12] loss: 0.678\n",
      "[10,    22] loss: 0.692\n",
      "[10,    32] loss: 0.661\n",
      "[11,     2] loss: 0.138\n",
      "[11,    12] loss: 0.661\n",
      "[11,    22] loss: 0.669\n",
      "[11,    32] loss: 0.650\n",
      "[12,     2] loss: 0.130\n",
      "[12,    12] loss: 0.639\n",
      "[12,    22] loss: 0.650\n",
      "[12,    32] loss: 0.649\n",
      "[13,     2] loss: 0.127\n",
      "[13,    12] loss: 0.647\n",
      "[13,    22] loss: 0.630\n",
      "[13,    32] loss: 0.614\n",
      "[14,     2] loss: 0.123\n",
      "[14,    12] loss: 0.631\n",
      "[14,    22] loss: 0.623\n",
      "[14,    32] loss: 0.618\n",
      "[15,     2] loss: 0.123\n",
      "[15,    12] loss: 0.621\n",
      "[15,    22] loss: 0.624\n",
      "[15,    32] loss: 0.618\n",
      "[16,     2] loss: 0.134\n",
      "[16,    12] loss: 0.596\n",
      "[16,    22] loss: 0.608\n",
      "[16,    32] loss: 0.603\n",
      "[17,     2] loss: 0.121\n",
      "[17,    12] loss: 0.609\n",
      "[17,    22] loss: 0.591\n",
      "[17,    32] loss: 0.598\n",
      "[18,     2] loss: 0.121\n",
      "[18,    12] loss: 0.593\n",
      "[18,    22] loss: 0.597\n",
      "[18,    32] loss: 0.602\n",
      "[19,     2] loss: 0.116\n",
      "[19,    12] loss: 0.579\n",
      "[19,    22] loss: 0.575\n",
      "[19,    32] loss: 0.578\n",
      "[20,     2] loss: 0.117\n",
      "[20,    12] loss: 0.584\n",
      "[20,    22] loss: 0.575\n",
      "[20,    32] loss: 0.569\n"
     ]
    },
    {
     "name": "stderr",
     "output_type": "stream",
     "text": [
      "/cs/labs/mornitzan/karinjo/miniconda/envs/rev17/lib/python3.7/site-packages/ipykernel_launcher.py:30: UserWarning: Implicit dimension choice for log_softmax has been deprecated. Change the call to include dim=X as an argument.\n"
     ]
    },
    {
     "name": "stdout",
     "output_type": "stream",
     "text": [
      "[-0.5676253572896011, -0.6679683718895058, -0.523639404040458]\n",
      "[-0.20163772285541143, -0.3338447784692806, -0.2775192150503962]\n",
      "[-0.2285863365115027, -0.3889975802776504, -0.23829069885636206]\n",
      "[-0.25705798009984054, -0.3076154218651019, -0.2402638428099072]\n",
      "[-0.8389092154535919, -0.9150205267607416, -0.8034220480156645]\n"
     ]
    },
    {
     "name": "stderr",
     "output_type": "stream",
     "text": [
      "/cs/labs/mornitzan/karinjo/miniconda/envs/rev17/lib/python3.7/site-packages/ipykernel_launcher.py:17: ImplicitModificationWarning: Trying to modify attribute `.obs` of view, initializing view as actual.\n",
      "  app.launch_new_instance()\n",
      "/cs/labs/mornitzan/karinjo/miniconda/envs/rev17/lib/python3.7/site-packages/scipy/sparse/_index.py:116: SparseEfficiencyWarning: Changing the sparsity structure of a csr_matrix is expensive. lil_matrix is more efficient.\n",
      "  self._set_arrayXarray_sparse(i, j, x)\n",
      "/cs/labs/mornitzan/karinjo/miniconda/envs/rev17/lib/python3.7/site-packages/Annotatability/models.py:51: UserWarning: Implicit dimension choice for log_softmax has been deprecated. Change the call to include dim=X as an argument.\n",
      "  output = F.log_softmax(x)\n"
     ]
    },
    {
     "name": "stdout",
     "output_type": "stream",
     "text": [
      "[1,     2] loss: 0.279\n",
      "[1,    12] loss: 1.376\n",
      "[1,    22] loss: 1.342\n",
      "[2,     2] loss: 0.254\n",
      "[2,    12] loss: 1.234\n",
      "[2,    22] loss: 1.166\n",
      "[3,     2] loss: 0.211\n",
      "[3,    12] loss: 0.998\n",
      "[3,    22] loss: 0.926\n",
      "[4,     2] loss: 0.167\n",
      "[4,    12] loss: 0.811\n",
      "[4,    22] loss: 0.768\n",
      "[5,     2] loss: 0.146\n",
      "[5,    12] loss: 0.726\n",
      "[5,    22] loss: 0.706\n",
      "[6,     2] loss: 0.133\n",
      "[6,    12] loss: 0.677\n",
      "[6,    22] loss: 0.672\n",
      "[7,     2] loss: 0.131\n",
      "[7,    12] loss: 0.658\n",
      "[7,    22] loss: 0.635\n",
      "[8,     2] loss: 0.126\n",
      "[8,    12] loss: 0.626\n",
      "[8,    22] loss: 0.631\n",
      "[9,     2] loss: 0.125\n",
      "[9,    12] loss: 0.620\n",
      "[9,    22] loss: 0.593\n",
      "[10,     2] loss: 0.115\n",
      "[10,    12] loss: 0.608\n",
      "[10,    22] loss: 0.604\n",
      "[11,     2] loss: 0.126\n",
      "[11,    12] loss: 0.588\n",
      "[11,    22] loss: 0.589\n",
      "[12,     2] loss: 0.118\n",
      "[12,    12] loss: 0.605\n",
      "[12,    22] loss: 0.584\n",
      "[13,     2] loss: 0.117\n",
      "[13,    12] loss: 0.592\n",
      "[13,    22] loss: 0.577\n",
      "[14,     2] loss: 0.115\n",
      "[14,    12] loss: 0.562\n",
      "[14,    22] loss: 0.564\n",
      "[15,     2] loss: 0.114\n",
      "[15,    12] loss: 0.549\n",
      "[15,    22] loss: 0.557\n",
      "[16,     2] loss: 0.104\n",
      "[16,    12] loss: 0.538\n",
      "[16,    22] loss: 0.548\n",
      "[17,     2] loss: 0.107\n",
      "[17,    12] loss: 0.537\n",
      "[17,    22] loss: 0.539\n",
      "[18,     2] loss: 0.114\n",
      "[18,    12] loss: 0.532\n",
      "[18,    22] loss: 0.525\n",
      "[19,     2] loss: 0.114\n",
      "[19,    12] loss: 0.516\n",
      "[19,    22] loss: 0.523\n",
      "[20,     2] loss: 0.106\n",
      "[20,    12] loss: 0.532\n",
      "[20,    22] loss: 0.513\n"
     ]
    },
    {
     "name": "stderr",
     "output_type": "stream",
     "text": [
      "/cs/labs/mornitzan/karinjo/miniconda/envs/rev17/lib/python3.7/site-packages/ipykernel_launcher.py:30: UserWarning: Implicit dimension choice for log_softmax has been deprecated. Change the call to include dim=X as an argument.\n"
     ]
    },
    {
     "name": "stdout",
     "output_type": "stream",
     "text": [
      "[-0.5676253572896011, -0.6679683718895058, -0.523639404040458, -0.6443859145756544]\n",
      "[-0.20163772285541143, -0.3338447784692806, -0.2775192150503962, -0.21903518467017333]\n",
      "[-0.2285863365115027, -0.3889975802776504, -0.23829069885636206, -0.22224762283828373]\n",
      "[-0.25705798009984054, -0.3076154218651019, -0.2402638428099072, -0.06296289540701379]\n",
      "[-0.8389092154535919, -0.9150205267607416, -0.8034220480156645, -0.8988824026996377]\n"
     ]
    },
    {
     "name": "stderr",
     "output_type": "stream",
     "text": [
      "/cs/labs/mornitzan/karinjo/miniconda/envs/rev17/lib/python3.7/site-packages/ipykernel_launcher.py:17: ImplicitModificationWarning: Trying to modify attribute `.obs` of view, initializing view as actual.\n",
      "  app.launch_new_instance()\n",
      "/cs/labs/mornitzan/karinjo/miniconda/envs/rev17/lib/python3.7/site-packages/scipy/sparse/_index.py:116: SparseEfficiencyWarning: Changing the sparsity structure of a csr_matrix is expensive. lil_matrix is more efficient.\n",
      "  self._set_arrayXarray_sparse(i, j, x)\n",
      "/cs/labs/mornitzan/karinjo/miniconda/envs/rev17/lib/python3.7/site-packages/Annotatability/models.py:51: UserWarning: Implicit dimension choice for log_softmax has been deprecated. Change the call to include dim=X as an argument.\n",
      "  output = F.log_softmax(x)\n"
     ]
    },
    {
     "name": "stdout",
     "output_type": "stream",
     "text": [
      "[1,     2] loss: 0.278\n",
      "[1,    12] loss: 1.384\n",
      "[1,    22] loss: 1.361\n",
      "[1,    32] loss: 1.332\n",
      "[2,     2] loss: 0.261\n",
      "[2,    12] loss: 1.279\n",
      "[2,    22] loss: 1.244\n",
      "[2,    32] loss: 1.195\n",
      "[3,     2] loss: 0.224\n",
      "[3,    12] loss: 1.104\n",
      "[3,    22] loss: 1.035\n",
      "[3,    32] loss: 0.962\n",
      "[4,     2] loss: 0.177\n",
      "[4,    12] loss: 0.866\n",
      "[4,    22] loss: 0.808\n",
      "[4,    32] loss: 0.756\n",
      "[5,     2] loss: 0.148\n",
      "[5,    12] loss: 0.701\n",
      "[5,    22] loss: 0.697\n",
      "[5,    32] loss: 0.666\n",
      "[6,     2] loss: 0.130\n",
      "[6,    12] loss: 0.649\n",
      "[6,    22] loss: 0.653\n",
      "[6,    32] loss: 0.623\n",
      "[7,     2] loss: 0.129\n",
      "[7,    12] loss: 0.625\n",
      "[7,    22] loss: 0.614\n",
      "[7,    32] loss: 0.625\n",
      "[8,     2] loss: 0.116\n",
      "[8,    12] loss: 0.604\n",
      "[8,    22] loss: 0.603\n",
      "[8,    32] loss: 0.592\n",
      "[9,     2] loss: 0.125\n",
      "[9,    12] loss: 0.593\n",
      "[9,    22] loss: 0.595\n",
      "[9,    32] loss: 0.596\n",
      "[10,     2] loss: 0.123\n",
      "[10,    12] loss: 0.587\n",
      "[10,    22] loss: 0.600\n",
      "[10,    32] loss: 0.583\n",
      "[11,     2] loss: 0.119\n",
      "[11,    12] loss: 0.577\n",
      "[11,    22] loss: 0.601\n",
      "[11,    32] loss: 0.588\n",
      "[12,     2] loss: 0.113\n",
      "[12,    12] loss: 0.584\n",
      "[12,    22] loss: 0.569\n",
      "[12,    32] loss: 0.591\n",
      "[13,     2] loss: 0.122\n",
      "[13,    12] loss: 0.568\n",
      "[13,    22] loss: 0.570\n",
      "[13,    32] loss: 0.563\n",
      "[14,     2] loss: 0.117\n",
      "[14,    12] loss: 0.574\n",
      "[14,    22] loss: 0.567\n",
      "[14,    32] loss: 0.564\n",
      "[15,     2] loss: 0.112\n",
      "[15,    12] loss: 0.562\n",
      "[15,    22] loss: 0.560\n",
      "[15,    32] loss: 0.564\n",
      "[16,     2] loss: 0.107\n",
      "[16,    12] loss: 0.555\n",
      "[16,    22] loss: 0.563\n",
      "[16,    32] loss: 0.534\n",
      "[17,     2] loss: 0.110\n",
      "[17,    12] loss: 0.542\n",
      "[17,    22] loss: 0.545\n",
      "[17,    32] loss: 0.552\n",
      "[18,     2] loss: 0.104\n",
      "[18,    12] loss: 0.531\n",
      "[18,    22] loss: 0.545\n",
      "[18,    32] loss: 0.540\n",
      "[19,     2] loss: 0.104\n",
      "[19,    12] loss: 0.540\n",
      "[19,    22] loss: 0.531\n",
      "[19,    32] loss: 0.535\n",
      "[20,     2] loss: 0.101\n",
      "[20,    12] loss: 0.527\n",
      "[20,    22] loss: 0.547\n",
      "[20,    32] loss: 0.518\n"
     ]
    },
    {
     "name": "stderr",
     "output_type": "stream",
     "text": [
      "/cs/labs/mornitzan/karinjo/miniconda/envs/rev17/lib/python3.7/site-packages/ipykernel_launcher.py:30: UserWarning: Implicit dimension choice for log_softmax has been deprecated. Change the call to include dim=X as an argument.\n"
     ]
    },
    {
     "name": "stdout",
     "output_type": "stream",
     "text": [
      "[-0.5676253572896011, -0.6679683718895058, -0.523639404040458, -0.6443859145756544, -0.595426919643352]\n",
      "[-0.20163772285541143, -0.3338447784692806, -0.2775192150503962, -0.21903518467017333, -0.49867479545529064]\n",
      "[-0.2285863365115027, -0.3889975802776504, -0.23829069885636206, -0.22224762283828373, -0.3865933758873598]\n",
      "[-0.25705798009984054, -0.3076154218651019, -0.2402638428099072, -0.06296289540701379, -0.3786992631483161]\n",
      "[-0.8389092154535919, -0.9150205267607416, -0.8034220480156645, -0.8988824026996377, -0.9144321733020433]\n"
     ]
    },
    {
     "name": "stderr",
     "output_type": "stream",
     "text": [
      "/cs/labs/mornitzan/karinjo/miniconda/envs/rev17/lib/python3.7/site-packages/ipykernel_launcher.py:17: ImplicitModificationWarning: Trying to modify attribute `.obs` of view, initializing view as actual.\n",
      "  app.launch_new_instance()\n",
      "/cs/labs/mornitzan/karinjo/miniconda/envs/rev17/lib/python3.7/site-packages/scipy/sparse/_index.py:116: SparseEfficiencyWarning: Changing the sparsity structure of a csr_matrix is expensive. lil_matrix is more efficient.\n",
      "  self._set_arrayXarray_sparse(i, j, x)\n",
      "/cs/labs/mornitzan/karinjo/miniconda/envs/rev17/lib/python3.7/site-packages/Annotatability/models.py:51: UserWarning: Implicit dimension choice for log_softmax has been deprecated. Change the call to include dim=X as an argument.\n",
      "  output = F.log_softmax(x)\n"
     ]
    },
    {
     "name": "stdout",
     "output_type": "stream",
     "text": [
      "[1,     2] loss: 0.279\n",
      "[1,    12] loss: 1.383\n",
      "[1,    22] loss: 1.349\n",
      "[1,    32] loss: 1.308\n",
      "[2,     2] loss: 0.251\n",
      "[2,    12] loss: 1.226\n",
      "[2,    22] loss: 1.160\n",
      "[2,    32] loss: 1.083\n",
      "[3,     2] loss: 0.203\n",
      "[3,    12] loss: 0.963\n",
      "[3,    22] loss: 0.888\n",
      "[3,    32] loss: 0.837\n",
      "[4,     2] loss: 0.157\n",
      "[4,    12] loss: 0.777\n",
      "[4,    22] loss: 0.739\n",
      "[4,    32] loss: 0.723\n",
      "[5,     2] loss: 0.139\n",
      "[5,    12] loss: 0.697\n",
      "[5,    22] loss: 0.688\n",
      "[5,    32] loss: 0.664\n",
      "[6,     2] loss: 0.132\n",
      "[6,    12] loss: 0.659\n",
      "[6,    22] loss: 0.663\n",
      "[6,    32] loss: 0.662\n",
      "[7,     2] loss: 0.132\n",
      "[7,    12] loss: 0.640\n",
      "[7,    22] loss: 0.646\n",
      "[7,    32] loss: 0.641\n",
      "[8,     2] loss: 0.132\n",
      "[8,    12] loss: 0.626\n",
      "[8,    22] loss: 0.628\n",
      "[8,    32] loss: 0.638\n",
      "[9,     2] loss: 0.121\n",
      "[9,    12] loss: 0.632\n",
      "[9,    22] loss: 0.638\n",
      "[9,    32] loss: 0.621\n",
      "[10,     2] loss: 0.129\n",
      "[10,    12] loss: 0.615\n",
      "[10,    22] loss: 0.619\n",
      "[10,    32] loss: 0.619\n",
      "[11,     2] loss: 0.121\n",
      "[11,    12] loss: 0.612\n",
      "[11,    22] loss: 0.616\n",
      "[11,    32] loss: 0.605\n",
      "[12,     2] loss: 0.126\n",
      "[12,    12] loss: 0.599\n",
      "[12,    22] loss: 0.586\n",
      "[12,    32] loss: 0.596\n",
      "[13,     2] loss: 0.119\n",
      "[13,    12] loss: 0.621\n",
      "[13,    22] loss: 0.593\n",
      "[13,    32] loss: 0.593\n",
      "[14,     2] loss: 0.118\n",
      "[14,    12] loss: 0.599\n",
      "[14,    22] loss: 0.593\n",
      "[14,    32] loss: 0.590\n",
      "[15,     2] loss: 0.117\n",
      "[15,    12] loss: 0.584\n",
      "[15,    22] loss: 0.587\n",
      "[15,    32] loss: 0.590\n",
      "[16,     2] loss: 0.117\n",
      "[16,    12] loss: 0.576\n",
      "[16,    22] loss: 0.572\n",
      "[16,    32] loss: 0.572\n",
      "[17,     2] loss: 0.121\n",
      "[17,    12] loss: 0.589\n",
      "[17,    22] loss: 0.573\n",
      "[17,    32] loss: 0.574\n",
      "[18,     2] loss: 0.116\n",
      "[18,    12] loss: 0.567\n",
      "[18,    22] loss: 0.566\n",
      "[18,    32] loss: 0.576\n",
      "[19,     2] loss: 0.115\n",
      "[19,    12] loss: 0.562\n",
      "[19,    22] loss: 0.551\n",
      "[19,    32] loss: 0.569\n",
      "[20,     2] loss: 0.112\n",
      "[20,    12] loss: 0.564\n",
      "[20,    22] loss: 0.533\n",
      "[20,    32] loss: 0.555\n"
     ]
    },
    {
     "name": "stderr",
     "output_type": "stream",
     "text": [
      "/cs/labs/mornitzan/karinjo/miniconda/envs/rev17/lib/python3.7/site-packages/ipykernel_launcher.py:30: UserWarning: Implicit dimension choice for log_softmax has been deprecated. Change the call to include dim=X as an argument.\n"
     ]
    },
    {
     "name": "stdout",
     "output_type": "stream",
     "text": [
      "[-0.5676253572896011, -0.6679683718895058, -0.523639404040458, -0.6443859145756544, -0.595426919643352, -0.6062960917338187]\n",
      "[-0.20163772285541143, -0.3338447784692806, -0.2775192150503962, -0.21903518467017333, -0.49867479545529064, -0.44212047149304123]\n",
      "[-0.2285863365115027, -0.3889975802776504, -0.23829069885636206, -0.22224762283828373, -0.3865933758873598, -0.2959341120800638]\n",
      "[-0.25705798009984054, -0.3076154218651019, -0.2402638428099072, -0.06296289540701379, -0.3786992631483161, -0.42575242324813456]\n",
      "[-0.8389092154535919, -0.9150205267607416, -0.8034220480156645, -0.8988824026996377, -0.9144321733020433, -0.8670933271343676]\n"
     ]
    },
    {
     "name": "stderr",
     "output_type": "stream",
     "text": [
      "/cs/labs/mornitzan/karinjo/miniconda/envs/rev17/lib/python3.7/site-packages/ipykernel_launcher.py:17: ImplicitModificationWarning: Trying to modify attribute `.obs` of view, initializing view as actual.\n",
      "  app.launch_new_instance()\n",
      "/cs/labs/mornitzan/karinjo/miniconda/envs/rev17/lib/python3.7/site-packages/scipy/sparse/_index.py:116: SparseEfficiencyWarning: Changing the sparsity structure of a csr_matrix is expensive. lil_matrix is more efficient.\n",
      "  self._set_arrayXarray_sparse(i, j, x)\n",
      "/cs/labs/mornitzan/karinjo/miniconda/envs/rev17/lib/python3.7/site-packages/Annotatability/models.py:51: UserWarning: Implicit dimension choice for log_softmax has been deprecated. Change the call to include dim=X as an argument.\n",
      "  output = F.log_softmax(x)\n"
     ]
    },
    {
     "name": "stdout",
     "output_type": "stream",
     "text": [
      "[1,     2] loss: 0.278\n",
      "[1,    12] loss: 1.377\n",
      "[1,    22] loss: 1.343\n",
      "[1,    32] loss: 1.303\n",
      "[2,     2] loss: 0.256\n",
      "[2,    12] loss: 1.248\n",
      "[2,    22] loss: 1.190\n",
      "[2,    32] loss: 1.122\n",
      "[3,     2] loss: 0.217\n",
      "[3,    12] loss: 1.042\n",
      "[3,    22] loss: 0.963\n",
      "[3,    32] loss: 0.893\n",
      "[4,     2] loss: 0.169\n",
      "[4,    12] loss: 0.823\n",
      "[4,    22] loss: 0.767\n",
      "[4,    32] loss: 0.738\n",
      "[5,     2] loss: 0.142\n",
      "[5,    12] loss: 0.697\n",
      "[5,    22] loss: 0.680\n",
      "[5,    32] loss: 0.685\n",
      "[6,     2] loss: 0.135\n",
      "[6,    12] loss: 0.664\n",
      "[6,    22] loss: 0.652\n",
      "[6,    32] loss: 0.649\n",
      "[7,     2] loss: 0.131\n",
      "[7,    12] loss: 0.626\n",
      "[7,    22] loss: 0.623\n",
      "[7,    32] loss: 0.641\n",
      "[8,     2] loss: 0.131\n",
      "[8,    12] loss: 0.626\n",
      "[8,    22] loss: 0.621\n",
      "[8,    32] loss: 0.607\n",
      "[9,     2] loss: 0.127\n",
      "[9,    12] loss: 0.612\n",
      "[9,    22] loss: 0.608\n",
      "[9,    32] loss: 0.601\n",
      "[10,     2] loss: 0.117\n",
      "[10,    12] loss: 0.597\n",
      "[10,    22] loss: 0.603\n",
      "[10,    32] loss: 0.613\n",
      "[11,     2] loss: 0.113\n",
      "[11,    12] loss: 0.598\n",
      "[11,    22] loss: 0.584\n",
      "[11,    32] loss: 0.595\n",
      "[12,     2] loss: 0.120\n",
      "[12,    12] loss: 0.595\n",
      "[12,    22] loss: 0.582\n",
      "[12,    32] loss: 0.570\n",
      "[13,     2] loss: 0.121\n",
      "[13,    12] loss: 0.574\n",
      "[13,    22] loss: 0.589\n",
      "[13,    32] loss: 0.588\n",
      "[14,     2] loss: 0.113\n",
      "[14,    12] loss: 0.580\n",
      "[14,    22] loss: 0.564\n",
      "[14,    32] loss: 0.569\n",
      "[15,     2] loss: 0.111\n",
      "[15,    12] loss: 0.563\n",
      "[15,    22] loss: 0.572\n",
      "[15,    32] loss: 0.546\n",
      "[16,     2] loss: 0.113\n",
      "[16,    12] loss: 0.549\n",
      "[16,    22] loss: 0.563\n",
      "[16,    32] loss: 0.539\n",
      "[17,     2] loss: 0.109\n",
      "[17,    12] loss: 0.545\n",
      "[17,    22] loss: 0.545\n",
      "[17,    32] loss: 0.537\n",
      "[18,     2] loss: 0.108\n",
      "[18,    12] loss: 0.532\n",
      "[18,    22] loss: 0.541\n",
      "[18,    32] loss: 0.540\n",
      "[19,     2] loss: 0.108\n",
      "[19,    12] loss: 0.532\n",
      "[19,    22] loss: 0.526\n",
      "[19,    32] loss: 0.525\n",
      "[20,     2] loss: 0.107\n",
      "[20,    12] loss: 0.529\n",
      "[20,    22] loss: 0.521\n",
      "[20,    32] loss: 0.511\n"
     ]
    },
    {
     "name": "stderr",
     "output_type": "stream",
     "text": [
      "/cs/labs/mornitzan/karinjo/miniconda/envs/rev17/lib/python3.7/site-packages/ipykernel_launcher.py:30: UserWarning: Implicit dimension choice for log_softmax has been deprecated. Change the call to include dim=X as an argument.\n"
     ]
    },
    {
     "name": "stdout",
     "output_type": "stream",
     "text": [
      "[-0.5676253572896011, -0.6679683718895058, -0.523639404040458, -0.6443859145756544, -0.595426919643352, -0.6062960917338187, -0.7186449005796723]\n",
      "[-0.20163772285541143, -0.3338447784692806, -0.2775192150503962, -0.21903518467017333, -0.49867479545529064, -0.44212047149304123, -0.5106657363316641]\n",
      "[-0.2285863365115027, -0.3889975802776504, -0.23829069885636206, -0.22224762283828373, -0.3865933758873598, -0.2959341120800638, -0.3899411390500371]\n",
      "[-0.25705798009984054, -0.3076154218651019, -0.2402638428099072, -0.06296289540701379, -0.3786992631483161, -0.42575242324813456, -0.4595760317937293]\n",
      "[-0.8389092154535919, -0.9150205267607416, -0.8034220480156645, -0.8988824026996377, -0.9144321733020433, -0.8670933271343676, -0.9117871886074265]\n"
     ]
    },
    {
     "name": "stderr",
     "output_type": "stream",
     "text": [
      "/cs/labs/mornitzan/karinjo/miniconda/envs/rev17/lib/python3.7/site-packages/ipykernel_launcher.py:17: ImplicitModificationWarning: Trying to modify attribute `.obs` of view, initializing view as actual.\n",
      "  app.launch_new_instance()\n",
      "/cs/labs/mornitzan/karinjo/miniconda/envs/rev17/lib/python3.7/site-packages/scipy/sparse/_index.py:116: SparseEfficiencyWarning: Changing the sparsity structure of a csr_matrix is expensive. lil_matrix is more efficient.\n",
      "  self._set_arrayXarray_sparse(i, j, x)\n",
      "/cs/labs/mornitzan/karinjo/miniconda/envs/rev17/lib/python3.7/site-packages/Annotatability/models.py:51: UserWarning: Implicit dimension choice for log_softmax has been deprecated. Change the call to include dim=X as an argument.\n",
      "  output = F.log_softmax(x)\n"
     ]
    },
    {
     "name": "stdout",
     "output_type": "stream",
     "text": [
      "[1,     2] loss: 0.280\n",
      "[1,    12] loss: 1.382\n",
      "[2,     2] loss: 0.269\n",
      "[2,    12] loss: 1.323\n",
      "[3,     2] loss: 0.254\n",
      "[3,    12] loss: 1.255\n",
      "[4,     2] loss: 0.239\n",
      "[4,    12] loss: 1.167\n",
      "[5,     2] loss: 0.218\n",
      "[5,    12] loss: 1.066\n",
      "[6,     2] loss: 0.202\n",
      "[6,    12] loss: 0.958\n",
      "[7,     2] loss: 0.181\n",
      "[7,    12] loss: 0.852\n",
      "[8,     2] loss: 0.165\n",
      "[8,    12] loss: 0.783\n",
      "[9,     2] loss: 0.156\n",
      "[9,    12] loss: 0.745\n",
      "[10,     2] loss: 0.138\n",
      "[10,    12] loss: 0.679\n",
      "[11,     2] loss: 0.137\n",
      "[11,    12] loss: 0.678\n",
      "[12,     2] loss: 0.134\n",
      "[12,    12] loss: 0.648\n",
      "[13,     2] loss: 0.130\n",
      "[13,    12] loss: 0.643\n",
      "[14,     2] loss: 0.123\n",
      "[14,    12] loss: 0.617\n",
      "[15,     2] loss: 0.132\n",
      "[15,    12] loss: 0.616\n",
      "[16,     2] loss: 0.121\n",
      "[16,    12] loss: 0.612\n",
      "[17,     2] loss: 0.116\n",
      "[17,    12] loss: 0.598\n",
      "[18,     2] loss: 0.116\n",
      "[18,    12] loss: 0.575\n",
      "[19,     2] loss: 0.121\n",
      "[19,    12] loss: 0.590\n",
      "[20,     2] loss: 0.114\n",
      "[20,    12] loss: 0.589\n"
     ]
    },
    {
     "name": "stderr",
     "output_type": "stream",
     "text": [
      "/cs/labs/mornitzan/karinjo/miniconda/envs/rev17/lib/python3.7/site-packages/ipykernel_launcher.py:30: UserWarning: Implicit dimension choice for log_softmax has been deprecated. Change the call to include dim=X as an argument.\n"
     ]
    },
    {
     "name": "stdout",
     "output_type": "stream",
     "text": [
      "[-0.5676253572896011, -0.6679683718895058, -0.523639404040458, -0.6443859145756544, -0.595426919643352, -0.6062960917338187, -0.7186449005796723, -0.7386119499875214]\n",
      "[-0.20163772285541143, -0.3338447784692806, -0.2775192150503962, -0.21903518467017333, -0.49867479545529064, -0.44212047149304123, -0.5106657363316641, -0.6022840836928302]\n",
      "[-0.2285863365115027, -0.3889975802776504, -0.23829069885636206, -0.22224762283828373, -0.3865933758873598, -0.2959341120800638, -0.3899411390500371, -0.563697842165115]\n",
      "[-0.25705798009984054, -0.3076154218651019, -0.2402638428099072, -0.06296289540701379, -0.3786992631483161, -0.42575242324813456, -0.4595760317937293, -0.7001070763280559]\n",
      "[-0.8389092154535919, -0.9150205267607416, -0.8034220480156645, -0.8988824026996377, -0.9144321733020433, -0.8670933271343676, -0.9117871886074265, -0.8732261002366665]\n"
     ]
    },
    {
     "name": "stderr",
     "output_type": "stream",
     "text": [
      "/cs/labs/mornitzan/karinjo/miniconda/envs/rev17/lib/python3.7/site-packages/ipykernel_launcher.py:17: ImplicitModificationWarning: Trying to modify attribute `.obs` of view, initializing view as actual.\n",
      "  app.launch_new_instance()\n",
      "/cs/labs/mornitzan/karinjo/miniconda/envs/rev17/lib/python3.7/site-packages/scipy/sparse/_index.py:116: SparseEfficiencyWarning: Changing the sparsity structure of a csr_matrix is expensive. lil_matrix is more efficient.\n",
      "  self._set_arrayXarray_sparse(i, j, x)\n",
      "/cs/labs/mornitzan/karinjo/miniconda/envs/rev17/lib/python3.7/site-packages/Annotatability/models.py:51: UserWarning: Implicit dimension choice for log_softmax has been deprecated. Change the call to include dim=X as an argument.\n",
      "  output = F.log_softmax(x)\n"
     ]
    },
    {
     "name": "stdout",
     "output_type": "stream",
     "text": [
      "[1,     2] loss: 0.277\n",
      "[2,     2] loss: 0.273\n",
      "[3,     2] loss: 0.268\n",
      "[4,     2] loss: 0.260\n",
      "[5,     2] loss: 0.252\n",
      "[6,     2] loss: 0.244\n",
      "[7,     2] loss: 0.230\n",
      "[8,     2] loss: 0.222\n",
      "[9,     2] loss: 0.209\n",
      "[10,     2] loss: 0.198\n",
      "[11,     2] loss: 0.184\n",
      "[12,     2] loss: 0.169\n",
      "[13,     2] loss: 0.157\n",
      "[14,     2] loss: 0.146\n",
      "[15,     2] loss: 0.138\n",
      "[16,     2] loss: 0.133\n",
      "[17,     2] loss: 0.133\n",
      "[18,     2] loss: 0.126\n",
      "[19,     2] loss: 0.136\n",
      "[20,     2] loss: 0.122\n"
     ]
    },
    {
     "name": "stderr",
     "output_type": "stream",
     "text": [
      "/cs/labs/mornitzan/karinjo/miniconda/envs/rev17/lib/python3.7/site-packages/ipykernel_launcher.py:30: UserWarning: Implicit dimension choice for log_softmax has been deprecated. Change the call to include dim=X as an argument.\n"
     ]
    },
    {
     "name": "stdout",
     "output_type": "stream",
     "text": [
      "[-0.5676253572896011, -0.6679683718895058, -0.523639404040458, -0.6443859145756544, -0.595426919643352, -0.6062960917338187, -0.7186449005796723, -0.7386119499875214, -0.7803377054185229]\n",
      "[-0.20163772285541143, -0.3338447784692806, -0.2775192150503962, -0.21903518467017333, -0.49867479545529064, -0.44212047149304123, -0.5106657363316641, -0.6022840836928302, -0.3591361644325105]\n",
      "[-0.2285863365115027, -0.3889975802776504, -0.23829069885636206, -0.22224762283828373, -0.3865933758873598, -0.2959341120800638, -0.3899411390500371, -0.563697842165115, -0.44575019948499595]\n",
      "[-0.25705798009984054, -0.3076154218651019, -0.2402638428099072, -0.06296289540701379, -0.3786992631483161, -0.42575242324813456, -0.4595760317937293, -0.7001070763280559, -0.3029556684106317]\n",
      "[-0.8389092154535919, -0.9150205267607416, -0.8034220480156645, -0.8988824026996377, -0.9144321733020433, -0.8670933271343676, -0.9117871886074265, -0.8732261002366665, -0.8574316998882768]\n"
     ]
    },
    {
     "name": "stderr",
     "output_type": "stream",
     "text": [
      "/cs/labs/mornitzan/karinjo/miniconda/envs/rev17/lib/python3.7/site-packages/ipykernel_launcher.py:17: ImplicitModificationWarning: Trying to modify attribute `.obs` of view, initializing view as actual.\n",
      "  app.launch_new_instance()\n",
      "/cs/labs/mornitzan/karinjo/miniconda/envs/rev17/lib/python3.7/site-packages/scipy/sparse/_index.py:116: SparseEfficiencyWarning: Changing the sparsity structure of a csr_matrix is expensive. lil_matrix is more efficient.\n",
      "  self._set_arrayXarray_sparse(i, j, x)\n",
      "/cs/labs/mornitzan/karinjo/miniconda/envs/rev17/lib/python3.7/site-packages/Annotatability/models.py:51: UserWarning: Implicit dimension choice for log_softmax has been deprecated. Change the call to include dim=X as an argument.\n",
      "  output = F.log_softmax(x)\n"
     ]
    },
    {
     "name": "stdout",
     "output_type": "stream",
     "text": [
      "[1,     2] loss: 0.280\n",
      "[1,    12] loss: 1.383\n",
      "[2,     2] loss: 0.271\n",
      "[2,    12] loss: 1.334\n",
      "[3,     2] loss: 0.259\n",
      "[3,    12] loss: 1.272\n",
      "[4,     2] loss: 0.245\n",
      "[4,    12] loss: 1.193\n",
      "[5,     2] loss: 0.229\n",
      "[5,    12] loss: 1.094\n",
      "[6,     2] loss: 0.205\n",
      "[6,    12] loss: 0.979\n",
      "[7,     2] loss: 0.183\n",
      "[7,    12] loss: 0.860\n",
      "[8,     2] loss: 0.164\n",
      "[8,    12] loss: 0.764\n",
      "[9,     2] loss: 0.149\n",
      "[9,    12] loss: 0.703\n",
      "[10,     2] loss: 0.134\n",
      "[10,    12] loss: 0.672\n",
      "[11,     2] loss: 0.136\n",
      "[11,    12] loss: 0.638\n",
      "[12,     2] loss: 0.126\n",
      "[12,    12] loss: 0.630\n",
      "[13,     2] loss: 0.124\n",
      "[13,    12] loss: 0.618\n",
      "[14,     2] loss: 0.120\n",
      "[14,    12] loss: 0.615\n",
      "[15,     2] loss: 0.118\n",
      "[15,    12] loss: 0.597\n",
      "[16,     2] loss: 0.123\n",
      "[16,    12] loss: 0.602\n",
      "[17,     2] loss: 0.115\n",
      "[17,    12] loss: 0.590\n",
      "[18,     2] loss: 0.115\n",
      "[18,    12] loss: 0.588\n",
      "[19,     2] loss: 0.114\n",
      "[19,    12] loss: 0.581\n",
      "[20,     2] loss: 0.112\n",
      "[20,    12] loss: 0.572\n"
     ]
    },
    {
     "name": "stderr",
     "output_type": "stream",
     "text": [
      "/cs/labs/mornitzan/karinjo/miniconda/envs/rev17/lib/python3.7/site-packages/ipykernel_launcher.py:30: UserWarning: Implicit dimension choice for log_softmax has been deprecated. Change the call to include dim=X as an argument.\n"
     ]
    },
    {
     "name": "stdout",
     "output_type": "stream",
     "text": [
      "[-0.5676253572896011, -0.6679683718895058, -0.523639404040458, -0.6443859145756544, -0.595426919643352, -0.6062960917338187, -0.7186449005796723, -0.7386119499875214, -0.7803377054185229, -0.7630284567994071]\n",
      "[-0.20163772285541143, -0.3338447784692806, -0.2775192150503962, -0.21903518467017333, -0.49867479545529064, -0.44212047149304123, -0.5106657363316641, -0.6022840836928302, -0.3591361644325105, -0.34128555489240586]\n",
      "[-0.2285863365115027, -0.3889975802776504, -0.23829069885636206, -0.22224762283828373, -0.3865933758873598, -0.2959341120800638, -0.3899411390500371, -0.563697842165115, -0.44575019948499595, -0.359529780627236]\n",
      "[-0.25705798009984054, -0.3076154218651019, -0.2402638428099072, -0.06296289540701379, -0.3786992631483161, -0.42575242324813456, -0.4595760317937293, -0.7001070763280559, -0.3029556684106317, -0.2851509259348118]\n",
      "[-0.8389092154535919, -0.9150205267607416, -0.8034220480156645, -0.8988824026996377, -0.9144321733020433, -0.8670933271343676, -0.9117871886074265, -0.8732261002366665, -0.8574316998882768, -0.9084748288368444]\n"
     ]
    },
    {
     "name": "stderr",
     "output_type": "stream",
     "text": [
      "/cs/labs/mornitzan/karinjo/miniconda/envs/rev17/lib/python3.7/site-packages/ipykernel_launcher.py:17: ImplicitModificationWarning: Trying to modify attribute `.obs` of view, initializing view as actual.\n",
      "  app.launch_new_instance()\n",
      "/cs/labs/mornitzan/karinjo/miniconda/envs/rev17/lib/python3.7/site-packages/scipy/sparse/_index.py:116: SparseEfficiencyWarning: Changing the sparsity structure of a csr_matrix is expensive. lil_matrix is more efficient.\n",
      "  self._set_arrayXarray_sparse(i, j, x)\n",
      "/cs/labs/mornitzan/karinjo/miniconda/envs/rev17/lib/python3.7/site-packages/Annotatability/models.py:51: UserWarning: Implicit dimension choice for log_softmax has been deprecated. Change the call to include dim=X as an argument.\n",
      "  output = F.log_softmax(x)\n"
     ]
    },
    {
     "name": "stdout",
     "output_type": "stream",
     "text": [
      "[1,     2] loss: 0.277\n",
      "[1,    12] loss: 1.375\n",
      "[2,     2] loss: 0.266\n",
      "[2,    12] loss: 1.309\n",
      "[3,     2] loss: 0.250\n",
      "[3,    12] loss: 1.217\n",
      "[4,     2] loss: 0.227\n",
      "[4,    12] loss: 1.091\n",
      "[5,     2] loss: 0.201\n",
      "[5,    12] loss: 0.945\n",
      "[6,     2] loss: 0.171\n",
      "[6,    12] loss: 0.842\n",
      "[7,     2] loss: 0.153\n",
      "[7,    12] loss: 0.753\n",
      "[8,     2] loss: 0.144\n",
      "[8,    12] loss: 0.713\n",
      "[9,     2] loss: 0.134\n",
      "[9,    12] loss: 0.687\n",
      "[10,     2] loss: 0.133\n",
      "[10,    12] loss: 0.664\n",
      "[11,     2] loss: 0.131\n",
      "[11,    12] loss: 0.636\n",
      "[12,     2] loss: 0.133\n",
      "[12,    12] loss: 0.654\n",
      "[13,     2] loss: 0.130\n",
      "[13,    12] loss: 0.617\n",
      "[14,     2] loss: 0.128\n",
      "[14,    12] loss: 0.618\n",
      "[15,     2] loss: 0.128\n",
      "[15,    12] loss: 0.619\n",
      "[16,     2] loss: 0.120\n",
      "[16,    12] loss: 0.626\n",
      "[17,     2] loss: 0.121\n",
      "[17,    12] loss: 0.600\n",
      "[18,     2] loss: 0.118\n",
      "[18,    12] loss: 0.598\n",
      "[19,     2] loss: 0.121\n",
      "[19,    12] loss: 0.588\n",
      "[20,     2] loss: 0.114\n",
      "[20,    12] loss: 0.589\n"
     ]
    },
    {
     "name": "stderr",
     "output_type": "stream",
     "text": [
      "/cs/labs/mornitzan/karinjo/miniconda/envs/rev17/lib/python3.7/site-packages/ipykernel_launcher.py:30: UserWarning: Implicit dimension choice for log_softmax has been deprecated. Change the call to include dim=X as an argument.\n"
     ]
    },
    {
     "name": "stdout",
     "output_type": "stream",
     "text": [
      "[-0.5676253572896011, -0.6679683718895058, -0.523639404040458, -0.6443859145756544, -0.595426919643352, -0.6062960917338187, -0.7186449005796723, -0.7386119499875214, -0.7803377054185229, -0.7630284567994071, -0.6762135746594304]\n",
      "[-0.20163772285541143, -0.3338447784692806, -0.2775192150503962, -0.21903518467017333, -0.49867479545529064, -0.44212047149304123, -0.5106657363316641, -0.6022840836928302, -0.3591361644325105, -0.34128555489240586, -0.296558669947933]\n",
      "[-0.2285863365115027, -0.3889975802776504, -0.23829069885636206, -0.22224762283828373, -0.3865933758873598, -0.2959341120800638, -0.3899411390500371, -0.563697842165115, -0.44575019948499595, -0.359529780627236, -0.2966967055500975]\n",
      "[-0.25705798009984054, -0.3076154218651019, -0.2402638428099072, -0.06296289540701379, -0.3786992631483161, -0.42575242324813456, -0.4595760317937293, -0.7001070763280559, -0.3029556684106317, -0.2851509259348118, -0.1493506504925356]\n",
      "[-0.8389092154535919, -0.9150205267607416, -0.8034220480156645, -0.8988824026996377, -0.9144321733020433, -0.8670933271343676, -0.9117871886074265, -0.8732261002366665, -0.8574316998882768, -0.9084748288368444, -0.8393738295974555]\n"
     ]
    },
    {
     "name": "stderr",
     "output_type": "stream",
     "text": [
      "/cs/labs/mornitzan/karinjo/miniconda/envs/rev17/lib/python3.7/site-packages/ipykernel_launcher.py:17: ImplicitModificationWarning: Trying to modify attribute `.obs` of view, initializing view as actual.\n",
      "  app.launch_new_instance()\n",
      "/cs/labs/mornitzan/karinjo/miniconda/envs/rev17/lib/python3.7/site-packages/scipy/sparse/_index.py:116: SparseEfficiencyWarning: Changing the sparsity structure of a csr_matrix is expensive. lil_matrix is more efficient.\n",
      "  self._set_arrayXarray_sparse(i, j, x)\n",
      "/cs/labs/mornitzan/karinjo/miniconda/envs/rev17/lib/python3.7/site-packages/Annotatability/models.py:51: UserWarning: Implicit dimension choice for log_softmax has been deprecated. Change the call to include dim=X as an argument.\n",
      "  output = F.log_softmax(x)\n"
     ]
    },
    {
     "name": "stdout",
     "output_type": "stream",
     "text": [
      "[1,     2] loss: 0.277\n",
      "[1,    12] loss: 1.379\n",
      "[1,    22] loss: 1.337\n",
      "[2,     2] loss: 0.255\n",
      "[2,    12] loss: 1.248\n",
      "[2,    22] loss: 1.198\n",
      "[3,     2] loss: 0.221\n",
      "[3,    12] loss: 1.057\n",
      "[3,    22] loss: 0.995\n",
      "[4,     2] loss: 0.179\n",
      "[4,    12] loss: 0.858\n",
      "[4,    22] loss: 0.816\n",
      "[5,     2] loss: 0.146\n",
      "[5,    12] loss: 0.736\n",
      "[5,    22] loss: 0.718\n",
      "[6,     2] loss: 0.137\n",
      "[6,    12] loss: 0.689\n",
      "[6,    22] loss: 0.670\n",
      "[7,     2] loss: 0.127\n",
      "[7,    12] loss: 0.651\n",
      "[7,    22] loss: 0.644\n",
      "[8,     2] loss: 0.129\n",
      "[8,    12] loss: 0.642\n",
      "[8,    22] loss: 0.630\n",
      "[9,     2] loss: 0.123\n",
      "[9,    12] loss: 0.631\n",
      "[9,    22] loss: 0.613\n",
      "[10,     2] loss: 0.118\n",
      "[10,    12] loss: 0.598\n",
      "[10,    22] loss: 0.614\n",
      "[11,     2] loss: 0.119\n",
      "[11,    12] loss: 0.601\n",
      "[11,    22] loss: 0.585\n",
      "[12,     2] loss: 0.119\n",
      "[12,    12] loss: 0.581\n",
      "[12,    22] loss: 0.585\n",
      "[13,     2] loss: 0.114\n",
      "[13,    12] loss: 0.575\n",
      "[13,    22] loss: 0.566\n",
      "[14,     2] loss: 0.115\n",
      "[14,    12] loss: 0.566\n",
      "[14,    22] loss: 0.568\n",
      "[15,     2] loss: 0.112\n",
      "[15,    12] loss: 0.565\n",
      "[15,    22] loss: 0.568\n",
      "[16,     2] loss: 0.109\n",
      "[16,    12] loss: 0.559\n",
      "[16,    22] loss: 0.551\n",
      "[17,     2] loss: 0.104\n",
      "[17,    12] loss: 0.545\n",
      "[17,    22] loss: 0.525\n",
      "[18,     2] loss: 0.104\n",
      "[18,    12] loss: 0.529\n",
      "[18,    22] loss: 0.532\n",
      "[19,     2] loss: 0.104\n",
      "[19,    12] loss: 0.532\n",
      "[19,    22] loss: 0.538\n",
      "[20,     2] loss: 0.108\n",
      "[20,    12] loss: 0.524\n",
      "[20,    22] loss: 0.513\n"
     ]
    },
    {
     "name": "stderr",
     "output_type": "stream",
     "text": [
      "/cs/labs/mornitzan/karinjo/miniconda/envs/rev17/lib/python3.7/site-packages/ipykernel_launcher.py:30: UserWarning: Implicit dimension choice for log_softmax has been deprecated. Change the call to include dim=X as an argument.\n"
     ]
    },
    {
     "name": "stdout",
     "output_type": "stream",
     "text": [
      "[-0.5676253572896011, -0.6679683718895058, -0.523639404040458, -0.6443859145756544, -0.595426919643352, -0.6062960917338187, -0.7186449005796723, -0.7386119499875214, -0.7803377054185229, -0.7630284567994071, -0.6762135746594304, -0.7238036508491865]\n",
      "[-0.20163772285541143, -0.3338447784692806, -0.2775192150503962, -0.21903518467017333, -0.49867479545529064, -0.44212047149304123, -0.5106657363316641, -0.6022840836928302, -0.3591361644325105, -0.34128555489240586, -0.296558669947933, -0.5113864507377205]\n",
      "[-0.2285863365115027, -0.3889975802776504, -0.23829069885636206, -0.22224762283828373, -0.3865933758873598, -0.2959341120800638, -0.3899411390500371, -0.563697842165115, -0.44575019948499595, -0.359529780627236, -0.2966967055500975, -0.43070493821391376]\n",
      "[-0.25705798009984054, -0.3076154218651019, -0.2402638428099072, -0.06296289540701379, -0.3786992631483161, -0.42575242324813456, -0.4595760317937293, -0.7001070763280559, -0.3029556684106317, -0.2851509259348118, -0.1493506504925356, -0.4742294655018198]\n",
      "[-0.8389092154535919, -0.9150205267607416, -0.8034220480156645, -0.8988824026996377, -0.9144321733020433, -0.8670933271343676, -0.9117871886074265, -0.8732261002366665, -0.8574316998882768, -0.9084748288368444, -0.8393738295974555, -0.8898854464424155]\n"
     ]
    },
    {
     "name": "stderr",
     "output_type": "stream",
     "text": [
      "/cs/labs/mornitzan/karinjo/miniconda/envs/rev17/lib/python3.7/site-packages/ipykernel_launcher.py:17: ImplicitModificationWarning: Trying to modify attribute `.obs` of view, initializing view as actual.\n",
      "  app.launch_new_instance()\n",
      "/cs/labs/mornitzan/karinjo/miniconda/envs/rev17/lib/python3.7/site-packages/scipy/sparse/_index.py:116: SparseEfficiencyWarning: Changing the sparsity structure of a csr_matrix is expensive. lil_matrix is more efficient.\n",
      "  self._set_arrayXarray_sparse(i, j, x)\n",
      "/cs/labs/mornitzan/karinjo/miniconda/envs/rev17/lib/python3.7/site-packages/Annotatability/models.py:51: UserWarning: Implicit dimension choice for log_softmax has been deprecated. Change the call to include dim=X as an argument.\n",
      "  output = F.log_softmax(x)\n"
     ]
    },
    {
     "name": "stdout",
     "output_type": "stream",
     "text": [
      "[1,     2] loss: 0.277\n",
      "[1,    12] loss: 1.352\n",
      "[1,    22] loss: 1.289\n",
      "[2,     2] loss: 0.246\n",
      "[2,    12] loss: 1.186\n",
      "[2,    22] loss: 1.088\n",
      "[3,     2] loss: 0.203\n",
      "[3,    12] loss: 0.955\n",
      "[3,    22] loss: 0.858\n",
      "[4,     2] loss: 0.162\n",
      "[4,    12] loss: 0.782\n",
      "[4,    22] loss: 0.723\n",
      "[5,     2] loss: 0.142\n",
      "[5,    12] loss: 0.700\n",
      "[5,    22] loss: 0.671\n",
      "[6,     2] loss: 0.133\n",
      "[6,    12] loss: 0.657\n",
      "[6,    22] loss: 0.641\n",
      "[7,     2] loss: 0.130\n",
      "[7,    12] loss: 0.643\n",
      "[7,    22] loss: 0.632\n",
      "[8,     2] loss: 0.123\n",
      "[8,    12] loss: 0.657\n",
      "[8,    22] loss: 0.630\n",
      "[9,     2] loss: 0.126\n",
      "[9,    12] loss: 0.634\n",
      "[9,    22] loss: 0.614\n",
      "[10,     2] loss: 0.127\n",
      "[10,    12] loss: 0.610\n",
      "[10,    22] loss: 0.604\n",
      "[11,     2] loss: 0.124\n",
      "[11,    12] loss: 0.637\n",
      "[11,    22] loss: 0.607\n",
      "[12,     2] loss: 0.117\n",
      "[12,    12] loss: 0.601\n",
      "[12,    22] loss: 0.589\n",
      "[13,     2] loss: 0.116\n",
      "[13,    12] loss: 0.591\n",
      "[13,    22] loss: 0.603\n",
      "[14,     2] loss: 0.120\n",
      "[14,    12] loss: 0.597\n",
      "[14,    22] loss: 0.592\n",
      "[15,     2] loss: 0.120\n",
      "[15,    12] loss: 0.590\n",
      "[15,    22] loss: 0.589\n",
      "[16,     2] loss: 0.123\n",
      "[16,    12] loss: 0.604\n",
      "[16,    22] loss: 0.603\n",
      "[17,     2] loss: 0.117\n",
      "[17,    12] loss: 0.588\n",
      "[17,    22] loss: 0.581\n",
      "[18,     2] loss: 0.118\n",
      "[18,    12] loss: 0.620\n",
      "[18,    22] loss: 0.598\n",
      "[19,     2] loss: 0.117\n",
      "[19,    12] loss: 0.573\n",
      "[19,    22] loss: 0.583\n",
      "[20,     2] loss: 0.121\n",
      "[20,    12] loss: 0.592\n",
      "[20,    22] loss: 0.583\n"
     ]
    },
    {
     "name": "stderr",
     "output_type": "stream",
     "text": [
      "/cs/labs/mornitzan/karinjo/miniconda/envs/rev17/lib/python3.7/site-packages/ipykernel_launcher.py:30: UserWarning: Implicit dimension choice for log_softmax has been deprecated. Change the call to include dim=X as an argument.\n"
     ]
    },
    {
     "name": "stdout",
     "output_type": "stream",
     "text": [
      "[-0.5676253572896011, -0.6679683718895058, -0.523639404040458, -0.6443859145756544, -0.595426919643352, -0.6062960917338187, -0.7186449005796723, -0.7386119499875214, -0.7803377054185229, -0.7630284567994071, -0.6762135746594304, -0.7238036508491865, -0.6899858311094087]\n",
      "[-0.20163772285541143, -0.3338447784692806, -0.2775192150503962, -0.21903518467017333, -0.49867479545529064, -0.44212047149304123, -0.5106657363316641, -0.6022840836928302, -0.3591361644325105, -0.34128555489240586, -0.296558669947933, -0.5113864507377205, -0.35341994073106014]\n",
      "[-0.2285863365115027, -0.3889975802776504, -0.23829069885636206, -0.22224762283828373, -0.3865933758873598, -0.2959341120800638, -0.3899411390500371, -0.563697842165115, -0.44575019948499595, -0.359529780627236, -0.2966967055500975, -0.43070493821391376, -0.32419342771452486]\n",
      "[-0.25705798009984054, -0.3076154218651019, -0.2402638428099072, -0.06296289540701379, -0.3786992631483161, -0.42575242324813456, -0.4595760317937293, -0.7001070763280559, -0.3029556684106317, -0.2851509259348118, -0.1493506504925356, -0.4742294655018198, -0.299593384791652]\n",
      "[-0.8389092154535919, -0.9150205267607416, -0.8034220480156645, -0.8988824026996377, -0.9144321733020433, -0.8670933271343676, -0.9117871886074265, -0.8732261002366665, -0.8574316998882768, -0.9084748288368444, -0.8393738295974555, -0.8898854464424155, -0.8899416089657]\n"
     ]
    },
    {
     "name": "stderr",
     "output_type": "stream",
     "text": [
      "/cs/labs/mornitzan/karinjo/miniconda/envs/rev17/lib/python3.7/site-packages/ipykernel_launcher.py:17: ImplicitModificationWarning: Trying to modify attribute `.obs` of view, initializing view as actual.\n",
      "  app.launch_new_instance()\n",
      "/cs/labs/mornitzan/karinjo/miniconda/envs/rev17/lib/python3.7/site-packages/scipy/sparse/_index.py:116: SparseEfficiencyWarning: Changing the sparsity structure of a csr_matrix is expensive. lil_matrix is more efficient.\n",
      "  self._set_arrayXarray_sparse(i, j, x)\n",
      "/cs/labs/mornitzan/karinjo/miniconda/envs/rev17/lib/python3.7/site-packages/Annotatability/models.py:51: UserWarning: Implicit dimension choice for log_softmax has been deprecated. Change the call to include dim=X as an argument.\n",
      "  output = F.log_softmax(x)\n"
     ]
    },
    {
     "name": "stdout",
     "output_type": "stream",
     "text": [
      "[1,     2] loss: 0.275\n",
      "[2,     2] loss: 0.266\n",
      "[3,     2] loss: 0.248\n",
      "[4,     2] loss: 0.229\n",
      "[5,     2] loss: 0.208\n",
      "[6,     2] loss: 0.182\n",
      "[7,     2] loss: 0.165\n",
      "[8,     2] loss: 0.150\n",
      "[9,     2] loss: 0.140\n",
      "[10,     2] loss: 0.134\n",
      "[11,     2] loss: 0.130\n",
      "[12,     2] loss: 0.132\n",
      "[13,     2] loss: 0.126\n",
      "[14,     2] loss: 0.125\n",
      "[15,     2] loss: 0.126\n",
      "[16,     2] loss: 0.123\n",
      "[17,     2] loss: 0.125\n",
      "[18,     2] loss: 0.117\n",
      "[19,     2] loss: 0.122\n",
      "[20,     2] loss: 0.117\n"
     ]
    },
    {
     "name": "stderr",
     "output_type": "stream",
     "text": [
      "/cs/labs/mornitzan/karinjo/miniconda/envs/rev17/lib/python3.7/site-packages/ipykernel_launcher.py:30: UserWarning: Implicit dimension choice for log_softmax has been deprecated. Change the call to include dim=X as an argument.\n"
     ]
    },
    {
     "name": "stdout",
     "output_type": "stream",
     "text": [
      "[-0.5676253572896011, -0.6679683718895058, -0.523639404040458, -0.6443859145756544, -0.595426919643352, -0.6062960917338187, -0.7186449005796723, -0.7386119499875214, -0.7803377054185229, -0.7630284567994071, -0.6762135746594304, -0.7238036508491865, -0.6899858311094087, -0.7430853397508549]\n",
      "[-0.20163772285541143, -0.3338447784692806, -0.2775192150503962, -0.21903518467017333, -0.49867479545529064, -0.44212047149304123, -0.5106657363316641, -0.6022840836928302, -0.3591361644325105, -0.34128555489240586, -0.296558669947933, -0.5113864507377205, -0.35341994073106014, -0.4198484386258485]\n",
      "[-0.2285863365115027, -0.3889975802776504, -0.23829069885636206, -0.22224762283828373, -0.3865933758873598, -0.2959341120800638, -0.3899411390500371, -0.563697842165115, -0.44575019948499595, -0.359529780627236, -0.2966967055500975, -0.43070493821391376, -0.32419342771452486, -0.3636087086712488]\n",
      "[-0.25705798009984054, -0.3076154218651019, -0.2402638428099072, -0.06296289540701379, -0.3786992631483161, -0.42575242324813456, -0.4595760317937293, -0.7001070763280559, -0.3029556684106317, -0.2851509259348118, -0.1493506504925356, -0.4742294655018198, -0.299593384791652, -0.3367045534902809]\n",
      "[-0.8389092154535919, -0.9150205267607416, -0.8034220480156645, -0.8988824026996377, -0.9144321733020433, -0.8670933271343676, -0.9117871886074265, -0.8732261002366665, -0.8574316998882768, -0.9084748288368444, -0.8393738295974555, -0.8898854464424155, -0.8899416089657, -0.8950303990380971]\n"
     ]
    },
    {
     "name": "stderr",
     "output_type": "stream",
     "text": [
      "/cs/labs/mornitzan/karinjo/miniconda/envs/rev17/lib/python3.7/site-packages/ipykernel_launcher.py:17: ImplicitModificationWarning: Trying to modify attribute `.obs` of view, initializing view as actual.\n",
      "  app.launch_new_instance()\n",
      "/cs/labs/mornitzan/karinjo/miniconda/envs/rev17/lib/python3.7/site-packages/scipy/sparse/_index.py:116: SparseEfficiencyWarning: Changing the sparsity structure of a csr_matrix is expensive. lil_matrix is more efficient.\n",
      "  self._set_arrayXarray_sparse(i, j, x)\n",
      "/cs/labs/mornitzan/karinjo/miniconda/envs/rev17/lib/python3.7/site-packages/Annotatability/models.py:51: UserWarning: Implicit dimension choice for log_softmax has been deprecated. Change the call to include dim=X as an argument.\n",
      "  output = F.log_softmax(x)\n"
     ]
    },
    {
     "name": "stdout",
     "output_type": "stream",
     "text": [
      "[1,     2] loss: 0.278\n",
      "[2,     2] loss: 0.273\n",
      "[3,     2] loss: 0.266\n",
      "[4,     2] loss: 0.256\n",
      "[5,     2] loss: 0.245\n",
      "[6,     2] loss: 0.232\n",
      "[7,     2] loss: 0.215\n",
      "[8,     2] loss: 0.198\n",
      "[9,     2] loss: 0.182\n",
      "[10,     2] loss: 0.167\n",
      "[11,     2] loss: 0.160\n",
      "[12,     2] loss: 0.142\n",
      "[13,     2] loss: 0.142\n",
      "[14,     2] loss: 0.138\n",
      "[15,     2] loss: 0.135\n",
      "[16,     2] loss: 0.131\n",
      "[17,     2] loss: 0.123\n",
      "[18,     2] loss: 0.129\n",
      "[19,     2] loss: 0.121\n",
      "[20,     2] loss: 0.125\n"
     ]
    },
    {
     "name": "stderr",
     "output_type": "stream",
     "text": [
      "/cs/labs/mornitzan/karinjo/miniconda/envs/rev17/lib/python3.7/site-packages/ipykernel_launcher.py:30: UserWarning: Implicit dimension choice for log_softmax has been deprecated. Change the call to include dim=X as an argument.\n"
     ]
    },
    {
     "name": "stdout",
     "output_type": "stream",
     "text": [
      "[-0.5676253572896011, -0.6679683718895058, -0.523639404040458, -0.6443859145756544, -0.595426919643352, -0.6062960917338187, -0.7186449005796723, -0.7386119499875214, -0.7803377054185229, -0.7630284567994071, -0.6762135746594304, -0.7238036508491865, -0.6899858311094087, -0.7430853397508549, -0.7587009819639744]\n",
      "[-0.20163772285541143, -0.3338447784692806, -0.2775192150503962, -0.21903518467017333, -0.49867479545529064, -0.44212047149304123, -0.5106657363316641, -0.6022840836928302, -0.3591361644325105, -0.34128555489240586, -0.296558669947933, -0.5113864507377205, -0.35341994073106014, -0.4198484386258485, -0.3941525910049419]\n",
      "[-0.2285863365115027, -0.3889975802776504, -0.23829069885636206, -0.22224762283828373, -0.3865933758873598, -0.2959341120800638, -0.3899411390500371, -0.563697842165115, -0.44575019948499595, -0.359529780627236, -0.2966967055500975, -0.43070493821391376, -0.32419342771452486, -0.3636087086712488, -0.4103990708658266]\n",
      "[-0.25705798009984054, -0.3076154218651019, -0.2402638428099072, -0.06296289540701379, -0.3786992631483161, -0.42575242324813456, -0.4595760317937293, -0.7001070763280559, -0.3029556684106317, -0.2851509259348118, -0.1493506504925356, -0.4742294655018198, -0.299593384791652, -0.3367045534902809, -0.30826943834948806]\n",
      "[-0.8389092154535919, -0.9150205267607416, -0.8034220480156645, -0.8988824026996377, -0.9144321733020433, -0.8670933271343676, -0.9117871886074265, -0.8732261002366665, -0.8574316998882768, -0.9084748288368444, -0.8393738295974555, -0.8898854464424155, -0.8899416089657, -0.8950303990380971, -0.8995335307499862]\n"
     ]
    },
    {
     "name": "stderr",
     "output_type": "stream",
     "text": [
      "/cs/labs/mornitzan/karinjo/miniconda/envs/rev17/lib/python3.7/site-packages/ipykernel_launcher.py:17: ImplicitModificationWarning: Trying to modify attribute `.obs` of view, initializing view as actual.\n",
      "  app.launch_new_instance()\n",
      "/cs/labs/mornitzan/karinjo/miniconda/envs/rev17/lib/python3.7/site-packages/scipy/sparse/_index.py:116: SparseEfficiencyWarning: Changing the sparsity structure of a csr_matrix is expensive. lil_matrix is more efficient.\n",
      "  self._set_arrayXarray_sparse(i, j, x)\n",
      "/cs/labs/mornitzan/karinjo/miniconda/envs/rev17/lib/python3.7/site-packages/Annotatability/models.py:51: UserWarning: Implicit dimension choice for log_softmax has been deprecated. Change the call to include dim=X as an argument.\n",
      "  output = F.log_softmax(x)\n"
     ]
    },
    {
     "name": "stdout",
     "output_type": "stream",
     "text": [
      "[1,     2] loss: 0.280\n",
      "[1,    12] loss: 1.382\n",
      "[1,    22] loss: 1.346\n",
      "[1,    32] loss: 1.304\n",
      "[2,     2] loss: 0.254\n",
      "[2,    12] loss: 1.229\n",
      "[2,    22] loss: 1.164\n",
      "[2,    32] loss: 1.088\n",
      "[3,     2] loss: 0.205\n",
      "[3,    12] loss: 0.981\n",
      "[3,    22] loss: 0.896\n",
      "[3,    32] loss: 0.844\n",
      "[4,     2] loss: 0.160\n",
      "[4,    12] loss: 0.787\n",
      "[4,    22] loss: 0.749\n",
      "[4,    32] loss: 0.721\n",
      "[5,     2] loss: 0.140\n",
      "[5,    12] loss: 0.704\n",
      "[5,    22] loss: 0.689\n",
      "[5,    32] loss: 0.683\n",
      "[6,     2] loss: 0.133\n",
      "[6,    12] loss: 0.680\n",
      "[6,    22] loss: 0.670\n",
      "[6,    32] loss: 0.661\n",
      "[7,     2] loss: 0.127\n",
      "[7,    12] loss: 0.638\n",
      "[7,    22] loss: 0.637\n",
      "[7,    32] loss: 0.636\n",
      "[8,     2] loss: 0.128\n",
      "[8,    12] loss: 0.655\n",
      "[8,    22] loss: 0.644\n",
      "[8,    32] loss: 0.633\n",
      "[9,     2] loss: 0.130\n",
      "[9,    12] loss: 0.628\n",
      "[9,    22] loss: 0.616\n",
      "[9,    32] loss: 0.620\n",
      "[10,     2] loss: 0.122\n",
      "[10,    12] loss: 0.624\n",
      "[10,    22] loss: 0.619\n",
      "[10,    32] loss: 0.612\n",
      "[11,     2] loss: 0.124\n",
      "[11,    12] loss: 0.619\n",
      "[11,    22] loss: 0.609\n",
      "[11,    32] loss: 0.610\n",
      "[12,     2] loss: 0.122\n",
      "[12,    12] loss: 0.598\n",
      "[12,    22] loss: 0.614\n",
      "[12,    32] loss: 0.601\n",
      "[13,     2] loss: 0.118\n",
      "[13,    12] loss: 0.598\n",
      "[13,    22] loss: 0.595\n",
      "[13,    32] loss: 0.595\n",
      "[14,     2] loss: 0.122\n",
      "[14,    12] loss: 0.594\n",
      "[14,    22] loss: 0.590\n",
      "[14,    32] loss: 0.589\n",
      "[15,     2] loss: 0.119\n",
      "[15,    12] loss: 0.599\n",
      "[15,    22] loss: 0.584\n",
      "[15,    32] loss: 0.600\n",
      "[16,     2] loss: 0.115\n",
      "[16,    12] loss: 0.591\n",
      "[16,    22] loss: 0.587\n",
      "[16,    32] loss: 0.585\n",
      "[17,     2] loss: 0.114\n",
      "[17,    12] loss: 0.573\n",
      "[17,    22] loss: 0.584\n",
      "[17,    32] loss: 0.570\n",
      "[18,     2] loss: 0.112\n",
      "[18,    12] loss: 0.573\n",
      "[18,    22] loss: 0.554\n",
      "[18,    32] loss: 0.562\n",
      "[19,     2] loss: 0.111\n",
      "[19,    12] loss: 0.550\n",
      "[19,    22] loss: 0.561\n",
      "[19,    32] loss: 0.555\n",
      "[20,     2] loss: 0.110\n",
      "[20,    12] loss: 0.544\n",
      "[20,    22] loss: 0.555\n",
      "[20,    32] loss: 0.548\n"
     ]
    },
    {
     "name": "stderr",
     "output_type": "stream",
     "text": [
      "/cs/labs/mornitzan/karinjo/miniconda/envs/rev17/lib/python3.7/site-packages/ipykernel_launcher.py:30: UserWarning: Implicit dimension choice for log_softmax has been deprecated. Change the call to include dim=X as an argument.\n"
     ]
    },
    {
     "name": "stdout",
     "output_type": "stream",
     "text": [
      "[-0.5676253572896011, -0.6679683718895058, -0.523639404040458, -0.6443859145756544, -0.595426919643352, -0.6062960917338187, -0.7186449005796723, -0.7386119499875214, -0.7803377054185229, -0.7630284567994071, -0.6762135746594304, -0.7238036508491865, -0.6899858311094087, -0.7430853397508549, -0.7587009819639744, -0.6478771654795709]\n",
      "[-0.20163772285541143, -0.3338447784692806, -0.2775192150503962, -0.21903518467017333, -0.49867479545529064, -0.44212047149304123, -0.5106657363316641, -0.6022840836928302, -0.3591361644325105, -0.34128555489240586, -0.296558669947933, -0.5113864507377205, -0.35341994073106014, -0.4198484386258485, -0.3941525910049419, -0.38008058603981354]\n",
      "[-0.2285863365115027, -0.3889975802776504, -0.23829069885636206, -0.22224762283828373, -0.3865933758873598, -0.2959341120800638, -0.3899411390500371, -0.563697842165115, -0.44575019948499595, -0.359529780627236, -0.2966967055500975, -0.43070493821391376, -0.32419342771452486, -0.3636087086712488, -0.4103990708658266, -0.21535840852602936]\n",
      "[-0.25705798009984054, -0.3076154218651019, -0.2402638428099072, -0.06296289540701379, -0.3786992631483161, -0.42575242324813456, -0.4595760317937293, -0.7001070763280559, -0.3029556684106317, -0.2851509259348118, -0.1493506504925356, -0.4742294655018198, -0.299593384791652, -0.3367045534902809, -0.30826943834948806, -0.30721917580293595]\n",
      "[-0.8389092154535919, -0.9150205267607416, -0.8034220480156645, -0.8988824026996377, -0.9144321733020433, -0.8670933271343676, -0.9117871886074265, -0.8732261002366665, -0.8574316998882768, -0.9084748288368444, -0.8393738295974555, -0.8898854464424155, -0.8899416089657, -0.8950303990380971, -0.8995335307499862, -0.8559193844442021]\n"
     ]
    },
    {
     "name": "stderr",
     "output_type": "stream",
     "text": [
      "/cs/labs/mornitzan/karinjo/miniconda/envs/rev17/lib/python3.7/site-packages/ipykernel_launcher.py:17: ImplicitModificationWarning: Trying to modify attribute `.obs` of view, initializing view as actual.\n",
      "  app.launch_new_instance()\n",
      "/cs/labs/mornitzan/karinjo/miniconda/envs/rev17/lib/python3.7/site-packages/scipy/sparse/_index.py:116: SparseEfficiencyWarning: Changing the sparsity structure of a csr_matrix is expensive. lil_matrix is more efficient.\n",
      "  self._set_arrayXarray_sparse(i, j, x)\n",
      "/cs/labs/mornitzan/karinjo/miniconda/envs/rev17/lib/python3.7/site-packages/Annotatability/models.py:51: UserWarning: Implicit dimension choice for log_softmax has been deprecated. Change the call to include dim=X as an argument.\n",
      "  output = F.log_softmax(x)\n"
     ]
    },
    {
     "name": "stdout",
     "output_type": "stream",
     "text": [
      "[1,     2] loss: 0.276\n",
      "[1,    12] loss: 1.372\n",
      "[2,     2] loss: 0.267\n",
      "[2,    12] loss: 1.309\n",
      "[3,     2] loss: 0.251\n",
      "[3,    12] loss: 1.214\n",
      "[4,     2] loss: 0.226\n",
      "[4,    12] loss: 1.096\n",
      "[5,     2] loss: 0.205\n",
      "[5,    12] loss: 0.975\n",
      "[6,     2] loss: 0.178\n",
      "[6,    12] loss: 0.842\n",
      "[7,     2] loss: 0.156\n",
      "[7,    12] loss: 0.755\n",
      "[8,     2] loss: 0.143\n",
      "[8,    12] loss: 0.708\n",
      "[9,     2] loss: 0.139\n",
      "[9,    12] loss: 0.672\n",
      "[10,     2] loss: 0.135\n",
      "[10,    12] loss: 0.646\n",
      "[11,     2] loss: 0.129\n",
      "[11,    12] loss: 0.646\n",
      "[12,     2] loss: 0.130\n",
      "[12,    12] loss: 0.631\n",
      "[13,     2] loss: 0.118\n",
      "[13,    12] loss: 0.624\n",
      "[14,     2] loss: 0.123\n",
      "[14,    12] loss: 0.615\n",
      "[15,     2] loss: 0.118\n",
      "[15,    12] loss: 0.610\n",
      "[16,     2] loss: 0.117\n",
      "[16,    12] loss: 0.601\n",
      "[17,     2] loss: 0.122\n",
      "[17,    12] loss: 0.588\n",
      "[18,     2] loss: 0.117\n",
      "[18,    12] loss: 0.586\n",
      "[19,     2] loss: 0.119\n",
      "[19,    12] loss: 0.583\n",
      "[20,     2] loss: 0.117\n",
      "[20,    12] loss: 0.593\n"
     ]
    },
    {
     "name": "stderr",
     "output_type": "stream",
     "text": [
      "/cs/labs/mornitzan/karinjo/miniconda/envs/rev17/lib/python3.7/site-packages/ipykernel_launcher.py:30: UserWarning: Implicit dimension choice for log_softmax has been deprecated. Change the call to include dim=X as an argument.\n"
     ]
    },
    {
     "name": "stdout",
     "output_type": "stream",
     "text": [
      "[-0.5676253572896011, -0.6679683718895058, -0.523639404040458, -0.6443859145756544, -0.595426919643352, -0.6062960917338187, -0.7186449005796723, -0.7386119499875214, -0.7803377054185229, -0.7630284567994071, -0.6762135746594304, -0.7238036508491865, -0.6899858311094087, -0.7430853397508549, -0.7587009819639744, -0.6478771654795709, -0.67225904622595]\n",
      "[-0.20163772285541143, -0.3338447784692806, -0.2775192150503962, -0.21903518467017333, -0.49867479545529064, -0.44212047149304123, -0.5106657363316641, -0.6022840836928302, -0.3591361644325105, -0.34128555489240586, -0.296558669947933, -0.5113864507377205, -0.35341994073106014, -0.4198484386258485, -0.3941525910049419, -0.38008058603981354, -0.6124790378478413]\n",
      "[-0.2285863365115027, -0.3889975802776504, -0.23829069885636206, -0.22224762283828373, -0.3865933758873598, -0.2959341120800638, -0.3899411390500371, -0.563697842165115, -0.44575019948499595, -0.359529780627236, -0.2966967055500975, -0.43070493821391376, -0.32419342771452486, -0.3636087086712488, -0.4103990708658266, -0.21535840852602936, -0.511914445998338]\n",
      "[-0.25705798009984054, -0.3076154218651019, -0.2402638428099072, -0.06296289540701379, -0.3786992631483161, -0.42575242324813456, -0.4595760317937293, -0.7001070763280559, -0.3029556684106317, -0.2851509259348118, -0.1493506504925356, -0.4742294655018198, -0.299593384791652, -0.3367045534902809, -0.30826943834948806, -0.30721917580293595, -0.784871073315964]\n",
      "[-0.8389092154535919, -0.9150205267607416, -0.8034220480156645, -0.8988824026996377, -0.9144321733020433, -0.8670933271343676, -0.9117871886074265, -0.8732261002366665, -0.8574316998882768, -0.9084748288368444, -0.8393738295974555, -0.8898854464424155, -0.8899416089657, -0.8950303990380971, -0.8995335307499862, -0.8559193844442021, -0.8592165165653921]\n"
     ]
    },
    {
     "name": "stderr",
     "output_type": "stream",
     "text": [
      "/cs/labs/mornitzan/karinjo/miniconda/envs/rev17/lib/python3.7/site-packages/ipykernel_launcher.py:17: ImplicitModificationWarning: Trying to modify attribute `.obs` of view, initializing view as actual.\n",
      "  app.launch_new_instance()\n",
      "/cs/labs/mornitzan/karinjo/miniconda/envs/rev17/lib/python3.7/site-packages/scipy/sparse/_index.py:116: SparseEfficiencyWarning: Changing the sparsity structure of a csr_matrix is expensive. lil_matrix is more efficient.\n",
      "  self._set_arrayXarray_sparse(i, j, x)\n",
      "/cs/labs/mornitzan/karinjo/miniconda/envs/rev17/lib/python3.7/site-packages/Annotatability/models.py:51: UserWarning: Implicit dimension choice for log_softmax has been deprecated. Change the call to include dim=X as an argument.\n",
      "  output = F.log_softmax(x)\n"
     ]
    },
    {
     "name": "stdout",
     "output_type": "stream",
     "text": [
      "[1,     2] loss: 0.279\n",
      "[1,    12] loss: 1.383\n",
      "[1,    22] loss: 1.345\n",
      "[1,    32] loss: 1.311\n",
      "[2,     2] loss: 0.255\n",
      "[2,    12] loss: 1.247\n",
      "[2,    22] loss: 1.184\n",
      "[2,    32] loss: 1.118\n",
      "[3,     2] loss: 0.209\n",
      "[3,    12] loss: 1.023\n",
      "[3,    22] loss: 0.946\n",
      "[3,    32] loss: 0.889\n",
      "[4,     2] loss: 0.171\n",
      "[4,    12] loss: 0.830\n",
      "[4,    22] loss: 0.780\n",
      "[4,    32] loss: 0.753\n",
      "[5,     2] loss: 0.146\n",
      "[5,    12] loss: 0.735\n",
      "[5,    22] loss: 0.713\n",
      "[5,    32] loss: 0.700\n",
      "[6,     2] loss: 0.140\n",
      "[6,    12] loss: 0.687\n",
      "[6,    22] loss: 0.674\n",
      "[6,    32] loss: 0.661\n",
      "[7,     2] loss: 0.131\n",
      "[7,    12] loss: 0.648\n",
      "[7,    22] loss: 0.661\n",
      "[7,    32] loss: 0.663\n",
      "[8,     2] loss: 0.131\n",
      "[8,    12] loss: 0.637\n",
      "[8,    22] loss: 0.634\n",
      "[8,    32] loss: 0.635\n",
      "[9,     2] loss: 0.124\n",
      "[9,    12] loss: 0.650\n",
      "[9,    22] loss: 0.639\n",
      "[9,    32] loss: 0.626\n",
      "[10,     2] loss: 0.127\n",
      "[10,    12] loss: 0.626\n",
      "[10,    22] loss: 0.628\n",
      "[10,    32] loss: 0.622\n",
      "[11,     2] loss: 0.121\n",
      "[11,    12] loss: 0.625\n",
      "[11,    22] loss: 0.606\n",
      "[11,    32] loss: 0.618\n",
      "[12,     2] loss: 0.130\n",
      "[12,    12] loss: 0.598\n",
      "[12,    22] loss: 0.602\n",
      "[12,    32] loss: 0.617\n",
      "[13,     2] loss: 0.116\n",
      "[13,    12] loss: 0.605\n",
      "[13,    22] loss: 0.583\n",
      "[13,    32] loss: 0.593\n",
      "[14,     2] loss: 0.112\n",
      "[14,    12] loss: 0.584\n",
      "[14,    22] loss: 0.611\n",
      "[14,    32] loss: 0.580\n",
      "[15,     2] loss: 0.118\n",
      "[15,    12] loss: 0.585\n",
      "[15,    22] loss: 0.593\n",
      "[15,    32] loss: 0.586\n",
      "[16,     2] loss: 0.121\n",
      "[16,    12] loss: 0.573\n",
      "[16,    22] loss: 0.583\n",
      "[16,    32] loss: 0.574\n",
      "[17,     2] loss: 0.112\n",
      "[17,    12] loss: 0.579\n",
      "[17,    22] loss: 0.574\n",
      "[17,    32] loss: 0.584\n",
      "[18,     2] loss: 0.111\n",
      "[18,    12] loss: 0.570\n",
      "[18,    22] loss: 0.584\n",
      "[18,    32] loss: 0.573\n",
      "[19,     2] loss: 0.109\n",
      "[19,    12] loss: 0.568\n",
      "[19,    22] loss: 0.553\n",
      "[19,    32] loss: 0.574\n",
      "[20,     2] loss: 0.108\n",
      "[20,    12] loss: 0.556\n",
      "[20,    22] loss: 0.569\n",
      "[20,    32] loss: 0.564\n"
     ]
    },
    {
     "name": "stderr",
     "output_type": "stream",
     "text": [
      "/cs/labs/mornitzan/karinjo/miniconda/envs/rev17/lib/python3.7/site-packages/ipykernel_launcher.py:30: UserWarning: Implicit dimension choice for log_softmax has been deprecated. Change the call to include dim=X as an argument.\n"
     ]
    },
    {
     "name": "stdout",
     "output_type": "stream",
     "text": [
      "[-0.5676253572896011, -0.6679683718895058, -0.523639404040458, -0.6443859145756544, -0.595426919643352, -0.6062960917338187, -0.7186449005796723, -0.7386119499875214, -0.7803377054185229, -0.7630284567994071, -0.6762135746594304, -0.7238036508491865, -0.6899858311094087, -0.7430853397508549, -0.7587009819639744, -0.6478771654795709, -0.67225904622595, -0.5274430461921329]\n",
      "[-0.20163772285541143, -0.3338447784692806, -0.2775192150503962, -0.21903518467017333, -0.49867479545529064, -0.44212047149304123, -0.5106657363316641, -0.6022840836928302, -0.3591361644325105, -0.34128555489240586, -0.296558669947933, -0.5113864507377205, -0.35341994073106014, -0.4198484386258485, -0.3941525910049419, -0.38008058603981354, -0.6124790378478413, -0.3616566914431953]\n",
      "[-0.2285863365115027, -0.3889975802776504, -0.23829069885636206, -0.22224762283828373, -0.3865933758873598, -0.2959341120800638, -0.3899411390500371, -0.563697842165115, -0.44575019948499595, -0.359529780627236, -0.2966967055500975, -0.43070493821391376, -0.32419342771452486, -0.3636087086712488, -0.4103990708658266, -0.21535840852602936, -0.511914445998338, -0.24801973882281572]\n",
      "[-0.25705798009984054, -0.3076154218651019, -0.2402638428099072, -0.06296289540701379, -0.3786992631483161, -0.42575242324813456, -0.4595760317937293, -0.7001070763280559, -0.3029556684106317, -0.2851509259348118, -0.1493506504925356, -0.4742294655018198, -0.299593384791652, -0.3367045534902809, -0.30826943834948806, -0.30721917580293595, -0.784871073315964, -0.29851613267071503]\n",
      "[-0.8389092154535919, -0.9150205267607416, -0.8034220480156645, -0.8988824026996377, -0.9144321733020433, -0.8670933271343676, -0.9117871886074265, -0.8732261002366665, -0.8574316998882768, -0.9084748288368444, -0.8393738295974555, -0.8898854464424155, -0.8899416089657, -0.8950303990380971, -0.8995335307499862, -0.8559193844442021, -0.8592165165653921, -0.8434607543406667]\n"
     ]
    },
    {
     "name": "stderr",
     "output_type": "stream",
     "text": [
      "/cs/labs/mornitzan/karinjo/miniconda/envs/rev17/lib/python3.7/site-packages/ipykernel_launcher.py:17: ImplicitModificationWarning: Trying to modify attribute `.obs` of view, initializing view as actual.\n",
      "  app.launch_new_instance()\n",
      "/cs/labs/mornitzan/karinjo/miniconda/envs/rev17/lib/python3.7/site-packages/scipy/sparse/_index.py:116: SparseEfficiencyWarning: Changing the sparsity structure of a csr_matrix is expensive. lil_matrix is more efficient.\n",
      "  self._set_arrayXarray_sparse(i, j, x)\n",
      "/cs/labs/mornitzan/karinjo/miniconda/envs/rev17/lib/python3.7/site-packages/Annotatability/models.py:51: UserWarning: Implicit dimension choice for log_softmax has been deprecated. Change the call to include dim=X as an argument.\n",
      "  output = F.log_softmax(x)\n"
     ]
    },
    {
     "name": "stdout",
     "output_type": "stream",
     "text": [
      "[1,     2] loss: 0.277\n",
      "[1,    12] loss: 1.373\n",
      "[1,    22] loss: 1.345\n",
      "[2,     2] loss: 0.264\n",
      "[2,    12] loss: 1.301\n",
      "[2,    22] loss: 1.254\n",
      "[3,     2] loss: 0.246\n",
      "[3,    12] loss: 1.198\n",
      "[3,    22] loss: 1.131\n",
      "[4,     2] loss: 0.220\n",
      "[4,    12] loss: 1.045\n",
      "[4,    22] loss: 0.958\n",
      "[5,     2] loss: 0.181\n",
      "[5,    12] loss: 0.869\n",
      "[5,    22] loss: 0.812\n",
      "[6,     2] loss: 0.158\n",
      "[6,    12] loss: 0.748\n",
      "[6,    22] loss: 0.729\n",
      "[7,     2] loss: 0.137\n",
      "[7,    12] loss: 0.701\n",
      "[7,    22] loss: 0.683\n",
      "[8,     2] loss: 0.123\n",
      "[8,    12] loss: 0.670\n",
      "[8,    22] loss: 0.639\n",
      "[9,     2] loss: 0.126\n",
      "[9,    12] loss: 0.644\n",
      "[9,    22] loss: 0.615\n",
      "[10,     2] loss: 0.129\n",
      "[10,    12] loss: 0.620\n",
      "[10,    22] loss: 0.626\n",
      "[11,     2] loss: 0.121\n",
      "[11,    12] loss: 0.633\n",
      "[11,    22] loss: 0.613\n",
      "[12,     2] loss: 0.116\n",
      "[12,    12] loss: 0.622\n",
      "[12,    22] loss: 0.606\n",
      "[13,     2] loss: 0.121\n",
      "[13,    12] loss: 0.607\n",
      "[13,    22] loss: 0.595\n",
      "[14,     2] loss: 0.121\n",
      "[14,    12] loss: 0.601\n",
      "[14,    22] loss: 0.597\n",
      "[15,     2] loss: 0.121\n",
      "[15,    12] loss: 0.617\n",
      "[15,    22] loss: 0.604\n",
      "[16,     2] loss: 0.116\n",
      "[16,    12] loss: 0.593\n",
      "[16,    22] loss: 0.577\n",
      "[17,     2] loss: 0.116\n",
      "[17,    12] loss: 0.580\n",
      "[17,    22] loss: 0.569\n",
      "[18,     2] loss: 0.115\n",
      "[18,    12] loss: 0.575\n",
      "[18,    22] loss: 0.572\n",
      "[19,     2] loss: 0.111\n",
      "[19,    12] loss: 0.575\n",
      "[19,    22] loss: 0.564\n",
      "[20,     2] loss: 0.122\n",
      "[20,    12] loss: 0.576\n",
      "[20,    22] loss: 0.576\n"
     ]
    },
    {
     "name": "stderr",
     "output_type": "stream",
     "text": [
      "/cs/labs/mornitzan/karinjo/miniconda/envs/rev17/lib/python3.7/site-packages/ipykernel_launcher.py:30: UserWarning: Implicit dimension choice for log_softmax has been deprecated. Change the call to include dim=X as an argument.\n"
     ]
    },
    {
     "name": "stdout",
     "output_type": "stream",
     "text": [
      "[-0.5676253572896011, -0.6679683718895058, -0.523639404040458, -0.6443859145756544, -0.595426919643352, -0.6062960917338187, -0.7186449005796723, -0.7386119499875214, -0.7803377054185229, -0.7630284567994071, -0.6762135746594304, -0.7238036508491865, -0.6899858311094087, -0.7430853397508549, -0.7587009819639744, -0.6478771654795709, -0.67225904622595, -0.5274430461921329, -0.687475511821544]\n",
      "[-0.20163772285541143, -0.3338447784692806, -0.2775192150503962, -0.21903518467017333, -0.49867479545529064, -0.44212047149304123, -0.5106657363316641, -0.6022840836928302, -0.3591361644325105, -0.34128555489240586, -0.296558669947933, -0.5113864507377205, -0.35341994073106014, -0.4198484386258485, -0.3941525910049419, -0.38008058603981354, -0.6124790378478413, -0.3616566914431953, -0.5245914000694253]\n",
      "[-0.2285863365115027, -0.3889975802776504, -0.23829069885636206, -0.22224762283828373, -0.3865933758873598, -0.2959341120800638, -0.3899411390500371, -0.563697842165115, -0.44575019948499595, -0.359529780627236, -0.2966967055500975, -0.43070493821391376, -0.32419342771452486, -0.3636087086712488, -0.4103990708658266, -0.21535840852602936, -0.511914445998338, -0.24801973882281572, -0.46001304145519084]\n",
      "[-0.25705798009984054, -0.3076154218651019, -0.2402638428099072, -0.06296289540701379, -0.3786992631483161, -0.42575242324813456, -0.4595760317937293, -0.7001070763280559, -0.3029556684106317, -0.2851509259348118, -0.1493506504925356, -0.4742294655018198, -0.299593384791652, -0.3367045534902809, -0.30826943834948806, -0.30721917580293595, -0.784871073315964, -0.29851613267071503, -0.47688027813566564]\n",
      "[-0.8389092154535919, -0.9150205267607416, -0.8034220480156645, -0.8988824026996377, -0.9144321733020433, -0.8670933271343676, -0.9117871886074265, -0.8732261002366665, -0.8574316998882768, -0.9084748288368444, -0.8393738295974555, -0.8898854464424155, -0.8899416089657, -0.8950303990380971, -0.8995335307499862, -0.8559193844442021, -0.8592165165653921, -0.8434607543406667, -0.9009181585285255]\n"
     ]
    },
    {
     "name": "stderr",
     "output_type": "stream",
     "text": [
      "/cs/labs/mornitzan/karinjo/miniconda/envs/rev17/lib/python3.7/site-packages/ipykernel_launcher.py:17: ImplicitModificationWarning: Trying to modify attribute `.obs` of view, initializing view as actual.\n",
      "  app.launch_new_instance()\n",
      "/cs/labs/mornitzan/karinjo/miniconda/envs/rev17/lib/python3.7/site-packages/scipy/sparse/_index.py:116: SparseEfficiencyWarning: Changing the sparsity structure of a csr_matrix is expensive. lil_matrix is more efficient.\n",
      "  self._set_arrayXarray_sparse(i, j, x)\n",
      "/cs/labs/mornitzan/karinjo/miniconda/envs/rev17/lib/python3.7/site-packages/Annotatability/models.py:51: UserWarning: Implicit dimension choice for log_softmax has been deprecated. Change the call to include dim=X as an argument.\n",
      "  output = F.log_softmax(x)\n"
     ]
    },
    {
     "name": "stdout",
     "output_type": "stream",
     "text": [
      "[1,     2] loss: 0.276\n",
      "[1,    12] loss: 1.356\n",
      "[2,     2] loss: 0.250\n",
      "[2,    12] loss: 1.191\n",
      "[3,     2] loss: 0.208\n",
      "[3,    12] loss: 0.966\n",
      "[4,     2] loss: 0.168\n",
      "[4,    12] loss: 0.796\n",
      "[5,     2] loss: 0.144\n",
      "[5,    12] loss: 0.711\n",
      "[6,     2] loss: 0.136\n",
      "[6,    12] loss: 0.678\n",
      "[7,     2] loss: 0.137\n",
      "[7,    12] loss: 0.659\n",
      "[8,     2] loss: 0.130\n",
      "[8,    12] loss: 0.640\n",
      "[9,     2] loss: 0.127\n",
      "[9,    12] loss: 0.629\n",
      "[10,     2] loss: 0.124\n",
      "[10,    12] loss: 0.615\n",
      "[11,     2] loss: 0.126\n",
      "[11,    12] loss: 0.598\n",
      "[12,     2] loss: 0.124\n",
      "[12,    12] loss: 0.612\n",
      "[13,     2] loss: 0.122\n",
      "[13,    12] loss: 0.589\n",
      "[14,     2] loss: 0.115\n",
      "[14,    12] loss: 0.590\n",
      "[15,     2] loss: 0.120\n",
      "[15,    12] loss: 0.585\n",
      "[16,     2] loss: 0.116\n",
      "[16,    12] loss: 0.588\n",
      "[17,     2] loss: 0.116\n",
      "[17,    12] loss: 0.585\n",
      "[18,     2] loss: 0.116\n",
      "[18,    12] loss: 0.574\n",
      "[19,     2] loss: 0.116\n",
      "[19,    12] loss: 0.570\n",
      "[20,     2] loss: 0.111\n",
      "[20,    12] loss: 0.549\n"
     ]
    },
    {
     "name": "stderr",
     "output_type": "stream",
     "text": [
      "/cs/labs/mornitzan/karinjo/miniconda/envs/rev17/lib/python3.7/site-packages/ipykernel_launcher.py:30: UserWarning: Implicit dimension choice for log_softmax has been deprecated. Change the call to include dim=X as an argument.\n"
     ]
    },
    {
     "name": "stdout",
     "output_type": "stream",
     "text": [
      "[-0.5676253572896011, -0.6679683718895058, -0.523639404040458, -0.6443859145756544, -0.595426919643352, -0.6062960917338187, -0.7186449005796723, -0.7386119499875214, -0.7803377054185229, -0.7630284567994071, -0.6762135746594304, -0.7238036508491865, -0.6899858311094087, -0.7430853397508549, -0.7587009819639744, -0.6478771654795709, -0.67225904622595, -0.5274430461921329, -0.687475511821544, -0.7229316995314238]\n",
      "[-0.20163772285541143, -0.3338447784692806, -0.2775192150503962, -0.21903518467017333, -0.49867479545529064, -0.44212047149304123, -0.5106657363316641, -0.6022840836928302, -0.3591361644325105, -0.34128555489240586, -0.296558669947933, -0.5113864507377205, -0.35341994073106014, -0.4198484386258485, -0.3941525910049419, -0.38008058603981354, -0.6124790378478413, -0.3616566914431953, -0.5245914000694253, -0.2799928167307868]\n",
      "[-0.2285863365115027, -0.3889975802776504, -0.23829069885636206, -0.22224762283828373, -0.3865933758873598, -0.2959341120800638, -0.3899411390500371, -0.563697842165115, -0.44575019948499595, -0.359529780627236, -0.2966967055500975, -0.43070493821391376, -0.32419342771452486, -0.3636087086712488, -0.4103990708658266, -0.21535840852602936, -0.511914445998338, -0.24801973882281572, -0.46001304145519084, -0.2540718195601567]\n",
      "[-0.25705798009984054, -0.3076154218651019, -0.2402638428099072, -0.06296289540701379, -0.3786992631483161, -0.42575242324813456, -0.4595760317937293, -0.7001070763280559, -0.3029556684106317, -0.2851509259348118, -0.1493506504925356, -0.4742294655018198, -0.299593384791652, -0.3367045534902809, -0.30826943834948806, -0.30721917580293595, -0.784871073315964, -0.29851613267071503, -0.47688027813566564, -0.1624352832796844]\n",
      "[-0.8389092154535919, -0.9150205267607416, -0.8034220480156645, -0.8988824026996377, -0.9144321733020433, -0.8670933271343676, -0.9117871886074265, -0.8732261002366665, -0.8574316998882768, -0.9084748288368444, -0.8393738295974555, -0.8898854464424155, -0.8899416089657, -0.8950303990380971, -0.8995335307499862, -0.8559193844442021, -0.8592165165653921, -0.8434607543406667, -0.9009181585285255, -0.8211302178927831]\n"
     ]
    }
   ],
   "source": [
    "from sklearn.ensemble import RandomForestClassifier\n",
    "from sklearn.svm import SVC\n",
    "from sklearn.neighbors import KNeighborsClassifier\n",
    "n = adata.n_obs\n",
    "conf_anno_tmp=[]\n",
    "conf_nn_tmp=[]\n",
    "conf_knn_tmp=[]\n",
    "conf_svm_tmp=[]\n",
    "conf_rf_tmp=[]\n",
    "for j in range(20):\n",
    "        np.random.seed(j)\n",
    "        bdata= adata.copy()\n",
    "        sc.pp.subsample(bdata, n_obs=n)\n",
    "        bdata.obs['change_weight']= np.zeros(bdata.n_obs)\n",
    "        mapping = random_sample_and_number(list(bdata.obs['str_labels'].unique()))\n",
    "        bdata= bdata[bdata.obs['str_labels'].isin(list(mapping.keys()))]\n",
    "        bdata.obs['cell_type_mapped']= bdata.obs['str_labels'].map(mapping)\n",
    "        percent = float(np.clip((np.random.normal(0.5,0.1,1)),0.01,0.99))\n",
    "        bdata = create_intermediate_state_percent(bdata,'cell_type_mapped',[0,1],percent)\n",
    "        bdata = create_intermediate_state_percent(bdata,'cell_type_mapped',[2,3],percent)\n",
    "        #bdata= adata.copy()\n",
    "        #bdata.X = bdata.X + np.random.normal(0,i*0.1,bdata.X.shape)\n",
    "        sc.pp.pca(bdata)\n",
    "        prob_list = models.follow_training_dyn_neural_net(bdata,'cell_type_mapped', device=device, iterNum=20)\n",
    "        all_conf , all_var = models.probability_list_to_confidence_and_var(prob_list, n_obs= bdata.n_obs, epoch_num=20)\n",
    "        bdata.obs['conf']=all_conf.detach().numpy()\n",
    "        conf_anno_tmp.append(stats.spearmanr(bdata.obs['conf'], bdata.obs['change_weight'])[0])\n",
    "        neigh = KNeighborsClassifier()\n",
    "        neigh.fit(bdata.obsm['X_pca'], bdata.obs['cell_type_mapped'])\n",
    "        conf = neigh.predict_proba(bdata.obsm['X_pca'])\n",
    "        conf2= conf[np.arange(bdata.n_obs),np.array(bdata.obs['cell_type_mapped']).astype(int)]\n",
    "        conf_knn_tmp.append((stats.spearmanr(conf2, bdata.obs['change_weight']))[0])\n",
    "        neigh = SVC(probability=True)\n",
    "        neigh.fit(bdata.obsm['X_pca'], bdata.obs['cell_type_mapped'])\n",
    "        conf = neigh.predict_proba(bdata.obsm['X_pca'])\n",
    "        conf2= conf[np.arange(bdata.n_obs),np.array(bdata.obs['cell_type_mapped']).astype(int)]\n",
    "        conf_svm_tmp.append((stats.spearmanr(conf2, bdata.obs['change_weight']))[0])\n",
    "        neigh = RandomForestClassifier()\n",
    "        neigh.fit(bdata.obsm['X_pca'], bdata.obs['cell_type_mapped'])\n",
    "        conf = neigh.predict_proba(bdata.obsm['X_pca'])\n",
    "        conf2= conf[np.arange(bdata.n_obs),np.array(bdata.obs['cell_type_mapped']).astype(int)]\n",
    "        conf_rf_tmp.append((stats.spearmanr(conf2, bdata.obs['change_weight']))[0])\n",
    "        conf_nn = nn_to_conf(bdata, 'cell_type_mapped', device = device)\n",
    "        conf_nn_tmp.append(stats.spearmanr(conf_nn, bdata.obs['change_weight'])[0])\n",
    "        print(conf_nn_tmp)\n",
    "        print(conf_rf_tmp)\n",
    "        print(conf_knn_tmp)\n",
    "        print(conf_svm_tmp)\n",
    "        print(conf_anno_tmp)\n",
    "\n"
   ]
  },
  {
   "cell_type": "code",
   "execution_count": 17,
   "metadata": {},
   "outputs": [
    {
     "data": {
      "image/png": "[encoded data removed]",
      "text/plain": [
       "<Figure size 1000x600 with 1 Axes>"
      ]
     },
     "metadata": {},
     "output_type": "display_data"
    }
   ],
   "source": [
    "data = pd.DataFrame({\n",
    "    'Annotatability': np.abs(conf_anno_tmp),\n",
    "    'Neural network': np.abs(conf_nn_tmp),\n",
    "    'SVM': np.abs(conf_svm_tmp),\n",
    "    'Random forest': np.abs(conf_rf_tmp),\n",
    "    'KNN classifier': np.abs(conf_knn_tmp)\n",
    "})\n",
    "\n",
    "# Melt the DataFrame to a long format\n",
    "melted_data = pd.melt(data)\n",
    "\n",
    "# Create the boxplot\n",
    "plt.figure(figsize=(10, 6))\n",
    "boxplot = sns.boxplot(x='variable', y='value', data=melted_data)\n",
    "\n",
    "# Add labels\n",
    "plt.xlabel('Method', fontsize=20)\n",
    "plt.ylabel('Spearman correlation', fontsize=20)\n",
    "plt.title('Coreelation between changed weight and confidence', fontsize=20)\n",
    "plt.ylim([0,1])\n",
    "legend_labels = ['Annotatability','Neural network', 'SVM', 'Random forest', 'KNN']\n",
    "for i, label in enumerate(legend_labels):\n",
    "    boxplot.plot([], [], label=label)\n",
    "\n",
    "plt.legend( fontsize=18)\n",
    "plt.xticks( fontsize=14.5)\n",
    "plt.yticks( fontsize=17)\n",
    "# Show the plot\n",
    "plt.show()\n"
   ]
  },
  {
   "cell_type": "markdown",
   "metadata": {
    "pycharm": {
     "name": "#%% md\n"
    }
   },
   "source": []
  },
  {
   "cell_type": "code",
   "execution_count": 18,
   "metadata": {
    "ExecuteTime": {
     "end_time": "2024-05-30T09:35:33.699351840Z",
     "start_time": "2024-05-30T09:35:27.213011440Z"
    },
    "pycharm": {
     "name": "#%%\n"
    }
   },
   "outputs": [
    {
     "name": "stdout",
     "output_type": "stream",
     "text": [
      "0.8741544678750242\n",
      "0.6727870459770495\n",
      "0.35091054824381424\n",
      "0.39601851652607845\n",
      "0.3517274496578374\n"
     ]
    }
   ],
   "source": [
    "print(np.mean(np.abs(conf_anno_tmp)))\n",
    "print(np.mean(np.abs(conf_nn_tmp)))\n",
    "print(np.mean(np.abs(conf_svm_tmp)))\n",
    "print(np.mean(np.abs(conf_rf_tmp)))\n",
    "print(np.mean(np.abs(conf_knn_tmp)))"
   ]
  },
  {
   "cell_type": "code",
   "execution_count": 19,
   "metadata": {},
   "outputs": [
    {
     "name": "stdout",
     "output_type": "stream",
     "text": [
      "0.8815557733395409\n",
      "0.6818445432404872\n",
      "0.3074172988340189\n",
      "0.37086863874150444\n",
      "0.3615692446492424\n"
     ]
    }
   ],
   "source": [
    "print(np.median(np.abs(conf_anno_tmp)))\n",
    "print(np.median(np.abs(conf_nn_tmp)))\n",
    "print(np.median(np.abs(conf_svm_tmp)))\n",
    "print(np.median(np.abs(conf_rf_tmp)))\n",
    "print(np.median(np.abs(conf_knn_tmp)))"
   ]
  },
  {
   "cell_type": "code",
   "execution_count": 20,
   "metadata": {},
   "outputs": [
    {
     "name": "stdout",
     "output_type": "stream",
     "text": [
      "0.001044275304342987\n",
      "0.005519759078941638\n",
      "0.02787189283162992\n",
      "0.013179734654688377\n",
      "0.009784433858161056\n"
     ]
    }
   ],
   "source": [
    "print(np.var(np.abs(conf_anno_tmp)))\n",
    "print(np.var(np.abs(conf_nn_tmp)))\n",
    "print(np.var(np.abs(conf_svm_tmp)))\n",
    "print(np.var(np.abs(conf_rf_tmp)))\n",
    "print(np.var(np.abs(conf_knn_tmp)))"
   ]
  },
  {
   "cell_type": "code",
   "execution_count": null,
   "metadata": {},
   "outputs": [],
   "source": []
  }
 ],
 "metadata": {
  "colab": {
   "provenance": []
  },
  "kernelspec": {
   "display_name": "Python 3 (ipykernel)",
   "language": "python",
   "name": "python3"
  },
  "language_info": {
   "codemirror_mode": {
    "name": "ipython",
    "version": 3
   },
   "file_extension": ".py",
   "mimetype": "text/x-python",
   "name": "python",
   "nbconvert_exporter": "python",
   "pygments_lexer": "ipython3",
   "version": "3.7.12"
  }
 },
 "nbformat": 4,
 "nbformat_minor": 4
}
